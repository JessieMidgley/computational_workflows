{
 "cells": [
  {
   "cell_type": "markdown",
   "metadata": {},
   "source": [
    "# Day 2\n",
    "\n",
    "Today, we will start using nf-core pipelines to find differentially abundant genes in our dataset. \n",
    "We are using data from the following paper: https://www.nature.com/articles/s41593-023-01350-3#Sec10"
   ]
  },
  {
   "cell_type": "markdown",
   "metadata": {
    "vscode": {
     "languageId": "plaintext"
    }
   },
   "source": [
    "1. Please take some time to read through the paper and understand their approach, hypotheses and goals."
   ]
  },
  {
   "cell_type": "markdown",
   "metadata": {
    "vscode": {
     "languageId": "plaintext"
    }
   },
   "source": [
    "What was the objective of the study?"
   ]
  },
  {
   "cell_type": "markdown",
   "source": [
    "The researchers wanted to understand how chronic opioid exposure and withdrawal affects pain-related behaviors in the context of pre-existing neuropathic pain induced by peripheral nerve injury (SNI mice), compared to pain-free control mice (sham-operated mice)."
   ],
   "metadata": {
    "collapsed": false
   }
  },
  {
   "cell_type": "markdown",
   "metadata": {
    "vscode": {
     "languageId": "plaintext"
    }
   },
   "source": [
    "What do the conditions mean?"
   ]
  },
  {
   "cell_type": "markdown",
   "metadata": {},
   "source": [
    "oxy: oxycodone injections\n",
    "\n",
    "\n",
    "sal: Saline (control) injections"
   ]
  },
  {
   "cell_type": "markdown",
   "metadata": {},
   "source": [
    "What do the genotypes mean?"
   ]
  },
  {
   "cell_type": "markdown",
   "metadata": {},
   "source": [
    "SNI: mice that underwent the spared nerve injury (SNI) surgery to induce neuropathic pain\n",
    "\n",
    "\n",
    "Sham: pain-free sham-operated control mice"
   ]
  },
  {
   "cell_type": "markdown",
   "metadata": {},
   "source": [
    "Imagine you are the bioinformatician in the group who conducted this study. They hand you the raw files and ask you to analyze them.\n",
    "\n",
    "What would you do?\n",
    "\n",
    "Which groups would you compare to each other?\n",
    "\n",
    "Please also mention which outcome you would expect to see from each comparison."
   ]
  },
  {
   "cell_type": "markdown",
   "source": [
    "I would compare the Sham-Sal and SNI-Sal controls to the Sham-Oxy and SNI-Oxy groups, to investiagte the effect of the oxycodone injection on mice with pre-existing pain (SNI) vs pain-free mice (sham). Comparing Sham-Sal to Sham-oxy would reveal the effect of oxycodone in pain-free mice, whereas comparing SNI-Sal to SNI-oxy would reveal the effect of oxycodone in mice with pre-existing pain. If we can quantify the differene between Sham-Sal & Sham-oxy and compare it to the quantified difference between SNI-Sal & SNI-oxy, we can determine the effect of oxycodone on mice with pre-existing pain (SNI) vs pain-free mice (Sham). I would also compare the 2 Saline control groups (SNI-sal and Sham-sal), to determine the baseline effect of pre-existing pain."
   ],
   "metadata": {
    "collapsed": false
   }
  },
  {
   "cell_type": "markdown",
   "metadata": {},
   "source": [
    "Your group gave you a very suboptimal excel sheet (conditions_runs_oxy_project.xlsx) to get the information you need for each run they uploaded to the SRA.<br>\n",
    "So, instead of directly diving into downloading the data and starting the analysis, you first need to sort the lazy table.<br>\n",
    "Use Python and Pandas to get the table into a more sensible order.<br>\n",
    "Then, perform some overview analysis and plot the results\n",
    "1. How many samples do you have per condition?\n",
    "2. How many samples do you have per genotype?\n",
    "3. How often do you have each condition per genotype?"
   ]
  },
  {
   "cell_type": "code",
   "execution_count": 1,
   "metadata": {
    "ExecuteTime": {
     "end_time": "2024-10-22T20:43:29.242158Z",
     "start_time": "2024-10-22T20:43:22.752761Z"
    }
   },
   "outputs": [],
   "source": [
    "import pandas as pd"
   ]
  },
  {
   "cell_type": "code",
   "execution_count": 2,
   "metadata": {
    "ExecuteTime": {
     "end_time": "2024-10-22T20:43:39.317046Z",
     "start_time": "2024-10-22T20:43:31.421576Z"
    }
   },
   "outputs": [
    {
     "name": "stdout",
     "output_type": "stream",
     "text": [
      "   Patient          Run RNA-seq  DNA-seq condition: Sal Condition: Oxy  \\\n",
      "3        ?  SRR23195508       x      NaN            NaN              x   \n",
      "4        ?  SRR23195509       x      NaN            NaN              x   \n",
      "11       ?  SRR23195516       x      NaN            NaN              x   \n",
      "12       ?  SRR23195517       x      NaN            NaN              x   \n",
      "1        ?  SRR23195506       x      NaN            NaN              x   \n",
      "6        ?  SRR23195511       x      NaN            NaN              x   \n",
      "9        ?  SRR23195514       x      NaN            NaN              x   \n",
      "14       ?  SRR23195519       x      NaN            NaN              x   \n",
      "0        ?  SRR23195505       x      NaN              x            NaN   \n",
      "5        ?  SRR23195510       x      NaN              x            NaN   \n",
      "8        ?  SRR23195513       x      NaN              x            NaN   \n",
      "13       ?  SRR23195518       x      NaN              x            NaN   \n",
      "2        ?  SRR23195507       x      NaN              x            NaN   \n",
      "7        ?  SRR23195512       x      NaN              x            NaN   \n",
      "10       ?  SRR23195515       x      NaN              x            NaN   \n",
      "15       ?  SRR23195520       x      NaN              x            NaN   \n",
      "\n",
      "   Genotype: SNI Genotype: Sham  \n",
      "3              x            NaN  \n",
      "4              x            NaN  \n",
      "11             x            NaN  \n",
      "12             x            NaN  \n",
      "1            NaN              x  \n",
      "6            NaN              x  \n",
      "9            NaN              x  \n",
      "14           NaN              x  \n",
      "0              x            NaN  \n",
      "5              x            NaN  \n",
      "8              x            NaN  \n",
      "13             x            NaN  \n",
      "2            NaN              x  \n",
      "7            NaN              x  \n",
      "10           NaN              x  \n",
      "15           NaN              x  \n"
     ]
    }
   ],
   "source": [
    "df = pd.read_excel(\"conditions_runs_oxy_project.xlsx\")\n",
    "print(df.sort_values(by=['Condition: Oxy', 'Genotype: SNI'], ascending=[True, True]))"
   ]
  },
  {
   "cell_type": "code",
   "execution_count": 3,
   "metadata": {
    "ExecuteTime": {
     "end_time": "2024-10-22T20:43:39.471377Z",
     "start_time": "2024-10-22T20:43:38.671762Z"
    }
   },
   "outputs": [
    {
     "name": "stdout",
     "output_type": "stream",
     "text": [
      "Nr. of samples per condition:\n",
      "Nr. of Sal samples: 8\n",
      "Nr. of Oxy samples: 8\n"
     ]
    }
   ],
   "source": [
    "print(\"Nr. of samples per condition:\")\n",
    "print(\"Nr. of Sal samples:\", df['condition: Sal'].count())\n",
    "print(\"Nr. of Oxy samples:\",df['Condition: Oxy'].count())"
   ]
  },
  {
   "cell_type": "code",
   "outputs": [
    {
     "name": "stdout",
     "output_type": "stream",
     "text": [
      "Nr. of samples per genotype:\n",
      "Nr. of SNI samples: 8\n",
      "Nr. of Sham samples: 8\n"
     ]
    }
   ],
   "source": [
    "print(\"Nr. of samples per genotype:\")\n",
    "print(\"Nr. of SNI samples:\", df['Genotype: SNI'].count())\n",
    "print(\"Nr. of Sham samples:\",df['Genotype: Sham'].count())"
   ],
   "metadata": {
    "collapsed": false,
    "ExecuteTime": {
     "end_time": "2024-10-22T20:43:39.487006Z",
     "start_time": "2024-10-22T20:43:38.811541Z"
    }
   },
   "execution_count": 4
  },
  {
   "cell_type": "code",
   "outputs": [
    {
     "name": "stdout",
     "output_type": "stream",
     "text": [
      "                Condition: Sal  Condition: Oxy\n",
      "Genotype: SNI                4               4\n",
      "Genotype: Sham               4               4\n"
     ]
    },
    {
     "data": {
      "text/plain": "<Figure size 800x600 with 0 Axes>"
     },
     "metadata": {},
     "output_type": "display_data"
    },
    {
     "data": {
      "text/plain": "<Figure size 640x480 with 1 Axes>",
      "image/png": "[encoded data removed]"
     },
     "metadata": {},
     "output_type": "display_data"
    }
   ],
   "source": [
    "import matplotlib.pyplot as plt\n",
    "\n",
    "sal_sni_count = ((df['Genotype: SNI'] == 'x') & (df['condition: Sal'] == 'x')).sum()\n",
    "oxy_sni_count = ((df['Genotype: SNI'] == 'x') & (df['Condition: Oxy'] == 'x')).sum()\n",
    "\n",
    "sal_sham_count = ((df['Genotype: Sham'] == 'x') & (df['condition: Sal'] == 'x')).sum()\n",
    "oxy_sham_count = ((df['Genotype: Sham'] == 'x') & (df['Condition: Oxy'] == 'x')).sum()\n",
    "\n",
    "\n",
    "genotype_condition = pd.DataFrame({\n",
    "    'Condition: Sal': [sal_sni_count, sal_sham_count],\n",
    "    'Condition: Oxy': [oxy_sni_count, oxy_sham_count]\n",
    "}, index=['Genotype: SNI', 'Genotype: Sham'])\n",
    "\n",
    "print(genotype_condition)\n",
    "\n",
    "# Plotting\n",
    "plt.figure(figsize=(8, 6))\n",
    "genotype_condition.T.plot(kind='bar', stacked=True)\n",
    "plt.title('Number of Samples per Genotype and Condition')\n",
    "plt.xlabel('Genotype')\n",
    "plt.ylabel('Number of Samples')\n",
    "plt.xticks(rotation=0)\n",
    "plt.legend(title='Condition', loc='upper center')\n",
    "plt.tight_layout()\n",
    "plt.show()"
   ],
   "metadata": {
    "collapsed": false,
    "ExecuteTime": {
     "end_time": "2024-10-22T20:43:55.613426Z",
     "start_time": "2024-10-22T20:43:38.940329Z"
    }
   },
   "execution_count": 5
  },
  {
   "cell_type": "markdown",
   "metadata": {},
   "source": [
    "They were so kind to also provide you with the information of the number of bases per run, so that you can know how much space the data will take on your Cluster.<br>\n",
    "Add a new column to your fancy table with this information (base_counts.csv) and sort your dataframe according to this information and the condition.\n",
    "\n",
    "Then select the 2 smallest runs from your dataset and download them from SRA (maybe an nf-core pipeline can help here?...)"
   ]
  },
  {
   "cell_type": "code",
   "execution_count": 6,
   "metadata": {
    "ExecuteTime": {
     "end_time": "2024-10-22T20:43:56.778896Z",
     "start_time": "2024-10-22T20:43:54.787348Z"
    }
   },
   "outputs": [
    {
     "name": "stdout",
     "output_type": "stream",
     "text": [
      "           Run       Bases\n",
      "0  SRR23195505  6922564500\n",
      "1  SRR23195506  7859530800\n",
      "2  SRR23195507  8063298900\n",
      "3  SRR23195508  6927786900\n",
      "4  SRR23195509  7003550100\n"
     ]
    }
   ],
   "source": [
    "base_counts = pd.read_csv(\"base_counts.csv\")\n",
    "print(base_counts.head())"
   ]
  },
  {
   "cell_type": "code",
   "execution_count": 7,
   "metadata": {
    "ExecuteTime": {
     "end_time": "2024-10-22T20:43:56.945658Z",
     "start_time": "2024-10-22T20:43:55.213725Z"
    }
   },
   "outputs": [
    {
     "name": "stdout",
     "output_type": "stream",
     "text": [
      "   Patient          Run RNA-seq  DNA-seq condition: Sal Condition: Oxy  \\\n",
      "11       ?  SRR23195516       x      NaN            NaN              x   \n",
      "6        ?  SRR23195511       x      NaN            NaN              x   \n",
      "12       ?  SRR23195517       x      NaN            NaN              x   \n",
      "0        ?  SRR23195505       x      NaN              x            NaN   \n",
      "3        ?  SRR23195508       x      NaN            NaN              x   \n",
      "14       ?  SRR23195519       x      NaN            NaN              x   \n",
      "4        ?  SRR23195509       x      NaN            NaN              x   \n",
      "9        ?  SRR23195514       x      NaN            NaN              x   \n",
      "5        ?  SRR23195510       x      NaN              x            NaN   \n",
      "7        ?  SRR23195512       x      NaN              x            NaN   \n",
      "15       ?  SRR23195520       x      NaN              x            NaN   \n",
      "1        ?  SRR23195506       x      NaN            NaN              x   \n",
      "13       ?  SRR23195518       x      NaN              x            NaN   \n",
      "2        ?  SRR23195507       x      NaN              x            NaN   \n",
      "8        ?  SRR23195513       x      NaN              x            NaN   \n",
      "10       ?  SRR23195515       x      NaN              x            NaN   \n",
      "\n",
      "   Genotype: SNI Genotype: Sham       Bases  \n",
      "11             x            NaN  6203117700  \n",
      "6            NaN              x  6456390900  \n",
      "12             x            NaN  6863840400  \n",
      "0              x            NaN  6922564500  \n",
      "3              x            NaN  6927786900  \n",
      "14           NaN              x  6996050100  \n",
      "4              x            NaN  7003550100  \n",
      "9            NaN              x  7226808600  \n",
      "5              x            NaN  7377388500  \n",
      "7            NaN              x  7462857900  \n",
      "15           NaN              x  7858146000  \n",
      "1            NaN              x  7859530800  \n",
      "13             x            NaN  7908500400  \n",
      "2            NaN              x  8063298900  \n",
      "8              x            NaN  8099181600  \n",
      "10           NaN              x  8169101700  \n"
     ]
    }
   ],
   "source": [
    "merged_df = pd.merge(df, base_counts, on='Run', how='left')\n",
    "merged_df = merged_df.sort_values(by=['Bases'], ascending=[True])\n",
    "print(merged_df)"
   ]
  },
  {
   "cell_type": "code",
   "outputs": [
    {
     "name": "stdout",
     "output_type": "stream",
     "text": [
      "11    SRR23195516\n",
      "6     SRR23195511\n",
      "Name: Run, dtype: object\n"
     ]
    }
   ],
   "source": [
    "smallest_runs = merged_df.nsmallest(2, 'Bases')['Run']\n",
    "print(smallest_runs)"
   ],
   "metadata": {
    "collapsed": false,
    "ExecuteTime": {
     "end_time": "2024-10-22T20:43:57.122659Z",
     "start_time": "2024-10-22T20:43:55.473583Z"
    }
   },
   "execution_count": 8
  },
  {
   "cell_type": "code",
   "outputs": [],
   "source": [
    "smallest_runs.to_csv('smallest_runs.csv', header=False, index=False)"
   ],
   "metadata": {
    "collapsed": false,
    "ExecuteTime": {
     "end_time": "2024-10-22T20:43:57.381829Z",
     "start_time": "2024-10-22T20:43:55.764076Z"
    }
   },
   "execution_count": 9
  },
  {
   "cell_type": "code",
   "outputs": [
    {
     "name": "stdout",
     "output_type": "stream",
     "text": [
      "\r\n",
      "\u001B[1m\u001B[38;5;232m\u001B[48;5;43m N E X T F L O W \u001B[0;2m  ~  \u001B[mversion 24.04.4\u001B[m\r\n",
      "\u001B[K\r\n",
      "Launching\u001B[35m `https://github.com/nf-core/fetchngs` \u001B[0;2m[\u001B[0;1;36mfestering_yonath\u001B[0;2m] DSL2 - \u001B[36mrevision: \u001B[0;36m8ec2d934f9 [master]\u001B[m\r\n",
      "\u001B[K\r\n",
      "\u001B[33mWARN: Access to undefined parameter `monochromeLogs` -- Initialise it to a default value eg. `params.monochromeLogs = some_value`\u001B[39m\u001B[K\r\n",
      "\r\n",
      "\r\n",
      "-\u001B[2m----------------------------------------------------\u001B[0m-\r\n",
      "                                        \u001B[0;32m,--.\u001B[0;30m/\u001B[0;32m,-.\u001B[0m\r\n",
      "\u001B[0;34m        ___     __   __   __   ___     \u001B[0;32m/,-._.--~'\u001B[0m\r\n",
      "\u001B[0;34m  |\\ | |__  __ /  ` /  \\ |__) |__         \u001B[0;33m}  {\u001B[0m\r\n",
      "\u001B[0;34m  | \\| |       \\__, \\__/ |  \\ |___     \u001B[0;32m\\`-._,-`-,\u001B[0m\r\n",
      "                                        \u001B[0;32m`._,._,'\u001B[0m\r\n",
      "\u001B[0;35m  nf-core/fetchngs v1.12.0-g8ec2d93\u001B[0m\r\n",
      "-\u001B[2m----------------------------------------------------\u001B[0m-\r\n",
      "\u001B[1mCore Nextflow options\u001B[0m\r\n",
      "  \u001B[0;34mrevision       : \u001B[0;32mmaster\u001B[0m\r\n",
      "  \u001B[0;34mrunName        : \u001B[0;32mfestering_yonath\u001B[0m\r\n",
      "  \u001B[0;34mcontainerEngine: \u001B[0;32mdocker\u001B[0m\r\n",
      "  \u001B[0;34mlaunchDir      : \u001B[0;32m/Users/Jessie/PycharmProjects/comp_workflows/day2\u001B[0m\r\n",
      "  \u001B[0;34mworkDir        : \u001B[0;32m/Users/Jessie/PycharmProjects/comp_workflows/day2/work\u001B[0m\r\n",
      "  \u001B[0;34mprojectDir     : \u001B[0;32m/Users/Jessie/.nextflow/assets/nf-core/fetchngs\u001B[0m\r\n",
      "  \u001B[0;34muserName       : \u001B[0;32mJessie\u001B[0m\r\n",
      "  \u001B[0;34mprofile        : \u001B[0;32mdocker\u001B[0m\r\n",
      "  \u001B[0;34mconfigFiles    : \u001B[0;32m\u001B[0m\r\n",
      "\r\n",
      "\u001B[1mInput/output options\u001B[0m\r\n",
      "  \u001B[0;34minput          : \u001B[0;32msmallest_runs.csv\u001B[0m\r\n",
      "  \u001B[0;34moutdir         : \u001B[0;32mfiles\u001B[0m\r\n",
      "\r\n",
      "\u001B[1mMax job request options\u001B[0m\r\n",
      "  \u001B[0;34mmax_memory     : \u001B[0;32m8GB\u001B[0m\r\n",
      "\r\n",
      "!! Only displaying parameters that differ from the pipeline defaults !!\r\n",
      "-\u001B[2m----------------------------------------------------\u001B[0m-\r\n",
      "If you use nf-core/fetchngs for your analysis please cite:\r\n",
      "\r\n",
      "* The pipeline\r\n",
      "  https://doi.org/10.5281/zenodo.5070524\r\n",
      "\r\n",
      "* The nf-core framework\r\n",
      "  https://doi.org/10.1038/s41587-020-0439-x\r\n",
      "\r\n",
      "* Software dependencies\r\n",
      "  https://github.com/nf-core/fetchngs/blob/master/CITATIONS.md\r\n",
      "-\u001B[2m----------------------------------------------------\u001B[0m-\r\n",
      "\u001B[2m[\u001B[0;34m-        \u001B[0;2m] \u001B[0;2mNFC…NGS:SRA:\u001B[mSRA_IDS_TO_RUNINFO -\u001B[K\r\n",
      "\u001B[2m[\u001B[0;34m-        \u001B[0;2m] \u001B[0;2mNFC…NGS:SRA:\u001B[mSRA_RUNINFO_TO_FTP -\u001B[K\r\n",
      "\u001B[2m[\u001B[0;34m-        \u001B[0;2m] \u001B[0;2mNFC…FETCHNGS:SRA:\u001B[mSRA_FASTQ_FTP -\u001B[K\r\n",
      "\u001B[2m[\u001B[0;34m-        \u001B[0;2m] \u001B[0;2m\u001B[mNFC…USTOM_SRATOOLSNCBISETTINGS -\u001B[K\r\n",
      "\u001B[2m[\u001B[0;34m-        \u001B[0;2m] \u001B[0;2mNFC…SRATOOLS:\u001B[mSRATOOLS_PREFETCH -\u001B[K\r\n",
      "\u001B[2m[\u001B[0;34m-        \u001B[0;2m] \u001B[0;2mNFC…TOOLS:\u001B[mSRATOOLS_FASTERQDUMP -\u001B[K\r\n",
      "\u001B[2m[\u001B[0;34m-        \u001B[0;2m] \u001B[0;2mNFCORE_FETCHNGS:SRA:\u001B[mASPERA_CLI -\u001B[K\r\n",
      "\u001B[8A\r\n",
      "\u001B[2mexecutor >  local (1)\u001B[m\u001B[K\r\n",
      "\u001B[2m[\u001B[0;34m36/8c1e75\u001B[0;2m] \u001B[0;2m\u001B[mNFC…S_TO_RUNINFO\u001B[33;2m (\u001B[0;33mSRR23195511\u001B[2m)\u001B[m\u001B[2m |\u001B[m 2 of 2\u001B[2m, cached: 2\u001B[0;32m ✔\u001B[m\u001B[K\r\n",
      "\u001B[2m[\u001B[0;34ma2/a48622\u001B[0;2m] \u001B[0;2mNFC…SRA:\u001B[mSRA_RUNINFO_TO_FTP\u001B[33;2m (\u001B[0;33m2\u001B[2m)\u001B[m\u001B[2m |\u001B[m 2 of 2\u001B[2m, cached: 2\u001B[0;32m ✔\u001B[m\u001B[K\r\n",
      "\u001B[2m[\u001B[0;34m8d/e26649\u001B[0;2m] \u001B[0;2m\u001B[mNFC…\u001B[33;2m (\u001B[0;33mSRX19144488_SRR23195511\u001B[2m)\u001B[m\u001B[2m |\u001B[m 0 of 2\u001B[K\r\n",
      "\u001B[2m[\u001B[0;34m-        \u001B[0;2m] \u001B[0;2m\u001B[mNFC…USTOM_SRATOOLSNCBISETTINGS -\u001B[K\r\n",
      "\u001B[2m[\u001B[0;34m-        \u001B[0;2m] \u001B[0;2mNFC…SRATOOLS:\u001B[mSRATOOLS_PREFETCH -\u001B[K\r\n",
      "\u001B[2m[\u001B[0;34m-        \u001B[0;2m] \u001B[0;2mNFC…TOOLS:\u001B[mSRATOOLS_FASTERQDUMP -\u001B[K\r\n",
      "\u001B[2m[\u001B[0;34m-        \u001B[0;2m] \u001B[0;2mNFCORE_FETCHNGS:SRA:\u001B[mASPERA_CLI -\u001B[K\r\n",
      "\u001B[2m[\u001B[0;34m-        \u001B[0;2m] \u001B[0;2mNFC…NGS:SRA:\u001B[mSRA_TO_SAMPLESHEET -\u001B[K\r\n",
      "\u001B[2m[\u001B[0;34m-        \u001B[0;2m] \u001B[0;2mNFC…RA:\u001B[mMULTIQC_MAPPINGS_CONFIG -\u001B[K\r\n",
      "\u001B[11A\r\n",
      "\u001B[2mexecutor >  local (1)\u001B[m\u001B[K\r\n",
      "\u001B[2m[\u001B[0;34m36/8c1e75\u001B[0;2m] \u001B[0;2m\u001B[mNFC…S_TO_RUNINFO\u001B[33;2m (\u001B[0;33mSRR23195511\u001B[2m)\u001B[m\u001B[2m |\u001B[m 2 of 2\u001B[2m, cached: 2\u001B[0;32m ✔\u001B[m\u001B[K\r\n",
      "\u001B[2m[\u001B[0;34ma2/a48622\u001B[0;2m] \u001B[0;2mNFC…SRA:\u001B[mSRA_RUNINFO_TO_FTP\u001B[33;2m (\u001B[0;33m2\u001B[2m)\u001B[m\u001B[2m |\u001B[m 2 of 2\u001B[2m, cached: 2\u001B[0;32m ✔\u001B[m\u001B[K\r\n",
      "\u001B[2m[\u001B[0;34m8d/e26649\u001B[0;2m] \u001B[0;2m\u001B[mNFC…\u001B[33;2m (\u001B[0;33mSRX19144488_SRR23195511\u001B[2m)\u001B[m\u001B[2m |\u001B[m 0 of 2\u001B[K\r\n",
      "\u001B[2m[\u001B[0;34m-        \u001B[0;2m] \u001B[0;2m\u001B[mNFC…USTOM_SRATOOLSNCBISETTINGS -\u001B[K\r\n",
      "\u001B[2m[\u001B[0;34m-        \u001B[0;2m] \u001B[0;2mNFC…SRATOOLS:\u001B[mSRATOOLS_PREFETCH -\u001B[K\r\n",
      "\u001B[2m[\u001B[0;34m-        \u001B[0;2m] \u001B[0;2mNFC…TOOLS:\u001B[mSRATOOLS_FASTERQDUMP -\u001B[K\r\n",
      "\u001B[2m[\u001B[0;34m-        \u001B[0;2m] \u001B[0;2mNFCORE_FETCHNGS:SRA:\u001B[mASPERA_CLI -\u001B[K\r\n",
      "\u001B[2m[\u001B[0;34m-        \u001B[0;2m] \u001B[0;2mNFC…NGS:SRA:\u001B[mSRA_TO_SAMPLESHEET -\u001B[K\r\n",
      "\u001B[2m[\u001B[0;34m-        \u001B[0;2m] \u001B[0;2mNFC…RA:\u001B[mMULTIQC_MAPPINGS_CONFIG -\u001B[K\r\n",
      "\u001B[11A\r\n",
      "\r\n",
      "-\u001B[0;35m[nf-core/fetchngs]\u001B[0;31m Pipeline completed with errors\u001B[0m-\r\n",
      "WARN: =============================================================================\r\n",
      "  Please double-check the samplesheet that has been auto-created by the pipeline.\r\n",
      "\r\n",
      "  Public databases don't reliably hold information such as strandedness\r\n",
      "  information, controls etc\r\n",
      "\r\n",
      "  All of the sample metadata obtained from the ENA has been appended\r\n",
      "  as additional columns to help you manually curate the samplesheet before\r\n",
      "  running nf-core/other pipelines.\r\n",
      "===================================================================================\r\n",
      "WARN: Killing running tasks (1)\r\n",
      "\u001B[2mexecutor >  local (1)\u001B[m\u001B[K\r\n",
      "\u001B[2m[\u001B[0;34m36/8c1e75\u001B[0;2m] \u001B[0;2m\u001B[mNFC…S_TO_RUNINFO\u001B[33;2m (\u001B[0;33mSRR23195511\u001B[2m)\u001B[m\u001B[2m |\u001B[m 2 of 2\u001B[2m, cached: 2\u001B[0;32m ✔\u001B[m\u001B[K\r\n",
      "\u001B[2m[\u001B[0;34ma2/a48622\u001B[0;2m] \u001B[0;2mNFC…SRA:\u001B[mSRA_RUNINFO_TO_FTP\u001B[33;2m (\u001B[0;33m2\u001B[2m)\u001B[m\u001B[2m |\u001B[m 2 of 2\u001B[2m, cached: 2\u001B[0;32m ✔\u001B[m\u001B[K\r\n",
      "\u001B[2m[\u001B[0;34m8d/e26649\u001B[0;2m] \u001B[0;2m\u001B[mNFC…\u001B[33;2m (\u001B[0;33mSRX19144488_SRR23195511\u001B[2m)\u001B[m\u001B[2m |\u001B[m 0 of 2\u001B[K\r\n",
      "\u001B[2m[\u001B[0;34m-        \u001B[0;2m] \u001B[0;2m\u001B[mNFC…USTOM_SRATOOLSNCBISETTINGS -\u001B[K\r\n",
      "\u001B[2m[\u001B[0;34m-        \u001B[0;2m] \u001B[0;2mNFC…SRATOOLS:\u001B[mSRATOOLS_PREFETCH -\u001B[K\r\n",
      "\u001B[2m[\u001B[0;34m-        \u001B[0;2m] \u001B[0;2mNFC…TOOLS:\u001B[mSRATOOLS_FASTERQDUMP -\u001B[K\r\n",
      "\u001B[2m[\u001B[0;34m-        \u001B[0;2m] \u001B[0;2mNFCORE_FETCHNGS:SRA:\u001B[mASPERA_CLI -\u001B[K\r\n",
      "\u001B[2m[\u001B[0;34m-        \u001B[0;2m] \u001B[0;2mNFC…NGS:SRA:\u001B[mSRA_TO_SAMPLESHEET -\u001B[K\r\n",
      "\u001B[2m[\u001B[0;34m-        \u001B[0;2m] \u001B[0;2mNFC…RA:\u001B[mMULTIQC_MAPPINGS_CONFIG -\u001B[K\r\n"
     ]
    }
   ],
   "source": [
    "!nextflow run nf-core/fetchngs -profile docker --input smallest_runs.csv --outdir files --max_memory=8GB -resume"
   ],
   "metadata": {
    "collapsed": false,
    "ExecuteTime": {
     "end_time": "2024-10-20T17:52:38.311224Z",
     "start_time": "2024-10-20T17:50:18.623960Z"
    }
   },
   "execution_count": 16
  },
  {
   "cell_type": "markdown",
   "source": [
    "Due to long runtimes on my PC, I received the files from a friend."
   ],
   "metadata": {
    "collapsed": false
   }
  },
  {
   "cell_type": "markdown",
   "source": [
    "While your files are downloading, get back to the paper and explain how you would try to reproduce the analysis.<br>\n",
    "When you are done with this shout, so we can discuss the different ideas."
   ],
   "metadata": {}
  },
  {
   "cell_type": "markdown",
   "source": [
    "I would try reproduce the analysis by using an nf-core pipeline (probably nf-core/rnaseq, since the authors are analyzing gene expression from RNA-sequencing data). With this pipeline I could compare the gene expression levels (transcriptional activity) across different brain regions. This would reveal transcriptional profiles associated with the treatment or withdrawal conditions."
   ],
   "metadata": {
    "collapsed": false
   }
  },
  {
   "cell_type": "code",
   "outputs": [],
   "source": [],
   "metadata": {
    "collapsed": false,
    "ExecuteTime": {
     "end_time": "2024-10-22T20:42:56.988307Z",
     "start_time": "2024-10-22T20:42:56.909384Z"
    }
   },
   "execution_count": 0
  }
 ],
 "metadata": {
  "kernelspec": {
   "display_name": "work",
   "language": "python",
   "name": "python3"
  },
  "language_info": {
   "name": "python",
   "version": "3.10.13"
  }
 },
 "nbformat": 4,
 "nbformat_minor": 2
}
