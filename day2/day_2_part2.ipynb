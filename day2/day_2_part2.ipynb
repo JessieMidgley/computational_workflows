{
 "cells": [
  {
   "cell_type": "markdown",
   "metadata": {},
   "source": [
    "## Great, now that we discussed a little let's continue"
   ]
  },
  {
   "cell_type": "markdown",
   "metadata": {},
   "source": [
    "Given that the current approach utilized by the authors lacks reproducibility, we will explore an alternative method by leveraging nf-core pipelines for data analysis.\n",
    "\n",
    "Please explain, how we will achieve reproducibility for the course  with this approach.\n"
   ]
  },
  {
   "cell_type": "markdown",
   "metadata": {},
   "source": [
    "Because the nf-core pipelines are packaged software, we should receive the same results when re-running the pipeline, regardless of OS or user, since all software versions will be the same (as specified by the Container)."
   ]
  },
  {
   "cell_type": "markdown",
   "metadata": {},
   "source": [
    "You have successfully downloaded 2 of the fastq files we will use in our study.\n",
    "\n",
    "What is the next step if we want to first have a count table and check the quality of our fastq files? What is the pipeline called to do so?"
   ]
  },
  {
   "cell_type": "markdown",
   "metadata": {},
   "source": [
    "Since this is RNA-seq data we can use nf-core/rnaseq pipeline to check the quality and produce the count table. Therefore, the next step is to run the rnaseq pipeline using a samplesheet and our FASTQ files as input."
   ]
  },
  {
   "cell_type": "markdown",
   "metadata": {},
   "source": [
    "Analyze the 2 files using an nf-core pipeline.\n",
    "\n",
    "What does this pipeline do?\n",
    "It performs quality control, trimming and (pseudo-)alignment to quantify gene expression levels, thereby producing a gene expression matrix and QC report.\n",
    "\n",
    "Which are the main tools that will be used in the pipeline?\n",
    "FastQC for quality control, STAR/HiSAT2 for multiple alignment, Salmon/RSEM for quantification (Salmon and Kallisto can also be used for pseudoalignment), SAMtools for sorting and indexing the reads, and Picard to mark the duplicates."
   ]
  },
  {
   "cell_type": "markdown",
   "source": [
    "As all other nf-core pipelines, the chosen pipeline takes in a samplesheet as input.\n",
    "\n",
    "Use Python and pandas to create the samplesheet for your 2 samples. Feel free to make use of the table you created earlier today.\n",
    "\n",
    "Choose your sample names wisely, they must be the connection of the results to the metadata. If you can't find the sample in the metadata later, the analysis was useless."
   ],
   "metadata": {}
  },
  {
   "cell_type": "code",
   "outputs": [],
   "source": [
    "import pandas as pd\n",
    "\n",
    "data = {\n",
    "    'sample': ['SHAM_OXY', 'SNI_OXY'],\n",
    "    'fastq_1': ['files/fastq/SRX19144488_SRR23195511_1.fastq.gz', 'files/fastq/SRX19144486_SRR23195516_1.fastq.gz'],\n",
    "    'fastq_2': ['files/fastq/SRX19144488_SRR23195511_2.fastq.gz', 'files/fastq/SRX19144486_SRR23195516_2.fastq.gz'],\n",
    "    'strandedness': ['auto', 'auto']\n",
    "}\n",
    "\n",
    "# Create DataFrame\n",
    "df = pd.DataFrame(data)\n",
    "\n",
    "# Write to CSV\n",
    "df.to_csv('samplesheet.csv', index=False)"
   ],
   "metadata": {
    "collapsed": false,
    "ExecuteTime": {
     "end_time": "2024-10-20T17:17:37.900237Z",
     "start_time": "2024-10-20T17:17:37.891185Z"
    }
   },
   "execution_count": 7
  },
  {
   "cell_type": "code",
   "outputs": [
    {
     "name": "stdout",
     "output_type": "stream",
     "text": [
      "\r\n",
      "\u001B[1m\u001B[38;5;232m\u001B[48;5;43m N E X T F L O W \u001B[0;2m  ~  \u001B[mversion 24.04.4\u001B[m\r\n",
      "\u001B[K\r\n",
      "NOTE: Your local project version looks outdated - a different revision is available in the remote repository [1f3f64dac7]\r\n",
      "Launching\u001B[35m `https://github.com/nf-core/rnaseq` \u001B[0;2m[\u001B[0;1;36mangry_kalam\u001B[0;2m] DSL2 - \u001B[36mrevision: \u001B[0;36m33df0c05ef [master]\u001B[m\r\n",
      "\u001B[K\r\n",
      "\u001B[33mWARN: Access to undefined parameter `monochromeLogs` -- Initialise it to a default value eg. `params.monochromeLogs = some_value`\u001B[39m\u001B[K\r\n",
      "\r\n",
      "\r\n",
      "-\u001B[2m----------------------------------------------------\u001B[0m-\r\n",
      "                                        \u001B[0;32m,--.\u001B[0;30m/\u001B[0;32m,-.\u001B[0m\r\n",
      "\u001B[0;34m        ___     __   __   __   ___     \u001B[0;32m/,-._.--~'\u001B[0m\r\n",
      "\u001B[0;34m  |\\ | |__  __ /  ` /  \\ |__) |__         \u001B[0;33m}  {\u001B[0m\r\n",
      "\u001B[0;34m  | \\| |       \\__, \\__/ |  \\ |___     \u001B[0;32m\\`-._,-`-,\u001B[0m\r\n",
      "                                        \u001B[0;32m`._,._,'\u001B[0m\r\n",
      "\u001B[0;35m  nf-core/rnaseq v3.16.0-g33df0c0\u001B[0m\r\n",
      "-\u001B[2m----------------------------------------------------\u001B[0m-\r\n",
      "\u001B[1mCore Nextflow options\u001B[0m\r\n",
      "  \u001B[0;34mrevision        : \u001B[0;32mmaster\u001B[0m\r\n",
      "  \u001B[0;34mrunName         : \u001B[0;32mangry_kalam\u001B[0m\r\n",
      "  \u001B[0;34mcontainerEngine : \u001B[0;32mdocker\u001B[0m\r\n",
      "  \u001B[0;34mlaunchDir       : \u001B[0;32m/Users/Jessie/PycharmProjects/comp_workflows/day2\u001B[0m\r\n",
      "  \u001B[0;34mworkDir         : \u001B[0;32m/Users/Jessie/PycharmProjects/comp_workflows/day2/work\u001B[0m\r\n",
      "  \u001B[0;34mprojectDir      : \u001B[0;32m/Users/Jessie/.nextflow/assets/nf-core/rnaseq\u001B[0m\r\n",
      "  \u001B[0;34muserName        : \u001B[0;32mJessie\u001B[0m\r\n",
      "  \u001B[0;34mprofile         : \u001B[0;32mdocker\u001B[0m\r\n",
      "  \u001B[0;34mconfigFiles     : \u001B[0;32m\u001B[0m\r\n",
      "\r\n",
      "\u001B[1mInput/output options\u001B[0m\r\n",
      "  \u001B[0;34minput           : \u001B[0;32msamplesheet.csv\u001B[0m\r\n",
      "  \u001B[0;34moutdir          : \u001B[0;32moutput\u001B[0m\r\n",
      "\r\n",
      "\u001B[1mReference genome options\u001B[0m\r\n",
      "  \u001B[0;34mfasta           : \u001B[0;32mGCF_000001635.27_GRCm39_genomic.fna\u001B[0m\r\n",
      "  \u001B[0;34mgtf             : \u001B[0;32mgenomic.gtf\u001B[0m\r\n",
      "\r\n",
      "\u001B[1mAlignment options\u001B[0m\r\n",
      "  \u001B[0;34mmin_mapped_reads: \u001B[0;32m5\u001B[0m\r\n",
      "\r\n",
      "\u001B[1mMax job request options\u001B[0m\r\n",
      "  \u001B[0;34mmax_cpus        : \u001B[0;32m8\u001B[0m\r\n",
      "  \u001B[0;34mmax_memory      : \u001B[0;32m8GB\u001B[0m\r\n",
      "\r\n",
      "!! Only displaying parameters that differ from the pipeline defaults !!\r\n",
      "-\u001B[2m----------------------------------------------------\u001B[0m-\r\n",
      "If you use nf-core/rnaseq for your analysis please cite:\r\n",
      "\r\n",
      "* The pipeline\r\n",
      "  https://doi.org/10.5281/zenodo.1400710\r\n",
      "\r\n",
      "* The nf-core framework\r\n",
      "  https://doi.org/10.1038/s41587-020-0439-x\r\n",
      "\r\n",
      "* Software dependencies\r\n",
      "  https://github.com/nf-core/rnaseq/blob/master/CITATIONS.md\r\n",
      "-\u001B[2m----------------------------------------------------\u001B[0m-\r\n",
      "\u001B[2m[\u001B[0;34m-        \u001B[0;2m] \u001B[0;2mNFC…:PREPARE_GENOME:\u001B[mGTF_FILTER -\u001B[K\r\n",
      "\u001B[2m[\u001B[0;34m-        \u001B[0;2m] \u001B[0;2mNFC…SEQ:PREPARE_GENOME:\u001B[mGTF2BED -\u001B[K\r\n",
      "\u001B[2m[\u001B[0;34m-        \u001B[0;2m] \u001B[0;2mNFC…OME:\u001B[mMAKE_TRANSCRIPTS_FASTA -\u001B[K\r\n",
      "\u001B[2m[\u001B[0;34m-        \u001B[0;2m] \u001B[0;2mNFC…ENOME:\u001B[mCUSTOM_GETCHROMSIZES -\u001B[K\r\n",
      "\u001B[2m[\u001B[0;34m-        \u001B[0;2m] \u001B[0;2mNFC…GENOME:\u001B[mSTAR_GENOMEGENERATE -\u001B[K\r\n",
      "\u001B[2m[\u001B[0;34m-        \u001B[0;2m] \u001B[0;2mNFC…_SETSTRANDEDNESS:\u001B[mCAT_FASTQ -\u001B[K\r\n",
      "\u001B[7A\r\n",
      "\u001B[2m[\u001B[0;34m-        \u001B[0;2m] \u001B[0;2mNFC…:PREPARE_GENOME:\u001B[mGTF_FILTER -\u001B[K\r\n",
      "\u001B[2m[\u001B[0;34m-        \u001B[0;2m] \u001B[0;2mNFC…SEQ:PREPARE_GENOME:\u001B[mGTF2BED -\u001B[K\r\n",
      "\u001B[2m[\u001B[0;34m-        \u001B[0;2m] \u001B[0;2mNFC…OME:\u001B[mMAKE_TRANSCRIPTS_FASTA -\u001B[K\r\n",
      "\u001B[2m[\u001B[0;34m-        \u001B[0;2m] \u001B[0;2mNFC…ENOME:\u001B[mCUSTOM_GETCHROMSIZES -\u001B[K\r\n",
      "\u001B[2m[\u001B[0;34m-        \u001B[0;2m] \u001B[0;2mNFC…GENOME:\u001B[mSTAR_GENOMEGENERATE -\u001B[K\r\n",
      "\u001B[2m[\u001B[0;34m-        \u001B[0;2m] \u001B[0;2mNFC…_SETSTRANDEDNESS:\u001B[mCAT_FASTQ -\u001B[K\r\n",
      "\u001B[2m[\u001B[0;34m-        \u001B[0;2m] \u001B[0;2mNFC…UMITOOLS_TRIMGALORE:\u001B[mFASTQC -\u001B[K\r\n",
      "\u001B[2m[\u001B[0;34m-        \u001B[0;2m] \u001B[0;2mNFC…OOLS_TRIMGALORE:\u001B[mTRIMGALORE -\u001B[K\r\n",
      "\u001B[2m[\u001B[0;34m-        \u001B[0;2m] \u001B[0;2mNFC…PLE_FQ_SALMON:\u001B[mSALMON_INDEX -\u001B[K\r\n",
      "\u001B[2m[\u001B[0;34m-        \u001B[0;2m] \u001B[0;2mNFC…PLE_FQ_SALMON:\u001B[mFQ_SUBSAMPLE -\u001B[K\r\n",
      "\u001B[2m[\u001B[0;34m-        \u001B[0;2m] \u001B[0;2mNFC…PLE_FQ_SALMON:\u001B[mSALMON_QUANT -\u001B[K\r\n",
      "\u001B[2m[\u001B[0;34m-        \u001B[0;2m] \u001B[0;2mNFC…ASEQ:ALIGN_STAR:\u001B[mSTAR_ALIGN -\u001B[K\r\n",
      "\u001B[2m[\u001B[0;34m-        \u001B[0;2m] \u001B[0;2mNFC…ATS_SAMTOOLS:\u001B[mSAMTOOLS_SORT -\u001B[K\r\n",
      "\u001B[2m[\u001B[0;34m-        \u001B[0;2m] \u001B[0;2mNFC…TS_SAMTOOLS:\u001B[mSAMTOOLS_INDEX -\u001B[K\r\n",
      "\u001B[2m[\u001B[0;34m-        \u001B[0;2m] \u001B[0;2mNFC…TS_SAMTOOLS:\u001B[mSAMTOOLS_STATS -\u001B[K\r\n",
      "\u001B[2m[\u001B[0;34m-        \u001B[0;2m] \u001B[0;2mNFC…SAMTOOLS:\u001B[mSAMTOOLS_FLAGSTAT -\u001B[K\r\n",
      "\u001B[2m[\u001B[0;34m-        \u001B[0;2m] \u001B[0;2mNFC…SAMTOOLS:\u001B[mSAMTOOLS_IDXSTATS -\u001B[K\r\n",
      "\u001B[2m[\u001B[0;34m-        \u001B[0;2m] \u001B[0;2mNFC…Y_STAR_SALMON:\u001B[mSALMON_QUANT -\u001B[K\r\n",
      "\u001B[19A\r\n",
      "\u001B[2m[\u001B[0;34m-        \u001B[0;2m] \u001B[0;2mNFC…:PREPARE_GENOME:\u001B[mGTF_FILTER -\u001B[K\r\n",
      "\u001B[2m[\u001B[0;34m-        \u001B[0;2m] \u001B[0;2mNFC…SEQ:PREPARE_GENOME:\u001B[mGTF2BED -\u001B[K\r\n",
      "\u001B[2m[\u001B[0;34m-        \u001B[0;2m] \u001B[0;2mNFC…OME:\u001B[mMAKE_TRANSCRIPTS_FASTA -\u001B[K\r\n",
      "\u001B[2m[\u001B[0;34m-        \u001B[0;2m] \u001B[0;2mNFC…ENOME:\u001B[mCUSTOM_GETCHROMSIZES -\u001B[K\r\n",
      "\u001B[2m[\u001B[0;34m-        \u001B[0;2m] \u001B[0;2mNFC…GENOME:\u001B[mSTAR_GENOMEGENERATE -\u001B[K\r\n",
      "\u001B[2m[\u001B[0;34m-        \u001B[0;2m] \u001B[0;2mNFC…_SETSTRANDEDNESS:\u001B[mCAT_FASTQ -\u001B[K\r\n",
      "\u001B[2m[\u001B[0;34m-        \u001B[0;2m] \u001B[0;2mNFC…UMITOOLS_TRIMGALORE:\u001B[mFASTQC -\u001B[K\r\n",
      "\u001B[2m[\u001B[0;34m-        \u001B[0;2m] \u001B[0;2mNFC…OOLS_TRIMGALORE:\u001B[mTRIMGALORE -\u001B[K\r\n",
      "\u001B[2m[\u001B[0;34m-        \u001B[0;2m] \u001B[0;2mNFC…PLE_FQ_SALMON:\u001B[mSALMON_INDEX -\u001B[K\r\n",
      "\u001B[2m[\u001B[0;34m-        \u001B[0;2m] \u001B[0;2mNFC…PLE_FQ_SALMON:\u001B[mFQ_SUBSAMPLE -\u001B[K\r\n",
      "\u001B[2m[\u001B[0;34m-        \u001B[0;2m] \u001B[0;2mNFC…PLE_FQ_SALMON:\u001B[mSALMON_QUANT -\u001B[K\r\n",
      "\u001B[2m[\u001B[0;34m-        \u001B[0;2m] \u001B[0;2mNFC…ASEQ:ALIGN_STAR:\u001B[mSTAR_ALIGN -\u001B[K\r\n",
      "\u001B[2m[\u001B[0;34m-        \u001B[0;2m] \u001B[0;2mNFC…ATS_SAMTOOLS:\u001B[mSAMTOOLS_SORT -\u001B[K\r\n",
      "\u001B[2m[\u001B[0;34m-        \u001B[0;2m] \u001B[0;2mNFC…TS_SAMTOOLS:\u001B[mSAMTOOLS_INDEX -\u001B[K\r\n",
      "\u001B[2m[\u001B[0;34m-        \u001B[0;2m] \u001B[0;2mNFC…TS_SAMTOOLS:\u001B[mSAMTOOLS_STATS -\u001B[K\r\n",
      "\u001B[2m[\u001B[0;34m-        \u001B[0;2m] \u001B[0;2mNFC…SAMTOOLS:\u001B[mSAMTOOLS_FLAGSTAT -\u001B[K\r\n",
      "\u001B[2m[\u001B[0;34m-        \u001B[0;2m] \u001B[0;2mNFC…SAMTOOLS:\u001B[mSAMTOOLS_IDXSTATS -\u001B[K\r\n",
      "\u001B[2m[\u001B[0;34m-        \u001B[0;2m] \u001B[0;2mNFC…Y_STAR_SALMON:\u001B[mSALMON_QUANT -\u001B[K\r\n",
      "\u001B[2m[\u001B[0;34m-        \u001B[0;2m] \u001B[0;2mNFC…STAR_SALMON:\u001B[mCUSTOM_TX2GENE -\u001B[K\r\n",
      "\u001B[2m[\u001B[0;34m-        \u001B[0;2m] \u001B[0;2mNFC…AR_SALMON:\u001B[mTXIMETA_TXIMPORT -\u001B[K\r\n",
      "\u001B[3;2mPlus \u001B[1m10\u001B[0;3;2m more processes waiting for tasks…\u001B[m\u001B[K\r\n",
      "\u001B[22A\r\n",
      "\u001B[2m[\u001B[0;34m-        \u001B[0;2m] \u001B[0;2mNFC…:PREPARE_GENOME:\u001B[mGTF_FILTER -\u001B[K\r\n",
      "\u001B[2m[\u001B[0;34m-        \u001B[0;2m] \u001B[0;2mNFC…SEQ:PREPARE_GENOME:\u001B[mGTF2BED -\u001B[K\r\n",
      "\u001B[2m[\u001B[0;34m-        \u001B[0;2m] \u001B[0;2mNFC…OME:\u001B[mMAKE_TRANSCRIPTS_FASTA -\u001B[K\r\n",
      "\u001B[2m[\u001B[0;34m-        \u001B[0;2m] \u001B[0;2mNFC…ENOME:\u001B[mCUSTOM_GETCHROMSIZES -\u001B[K\r\n",
      "\u001B[2m[\u001B[0;34m-        \u001B[0;2m] \u001B[0;2mNFC…GENOME:\u001B[mSTAR_GENOMEGENERATE -\u001B[K\r\n",
      "\u001B[2m[\u001B[0;34m-        \u001B[0;2m] \u001B[0;2mNFC…_SETSTRANDEDNESS:\u001B[mCAT_FASTQ -\u001B[K\r\n",
      "\u001B[2m[\u001B[0;34m-        \u001B[0;2m] \u001B[0;2mNFC…UMITOOLS_TRIMGALORE:\u001B[mFASTQC -\u001B[K\r\n",
      "\u001B[2m[\u001B[0;34m-        \u001B[0;2m] \u001B[0;2mNFC…OOLS_TRIMGALORE:\u001B[mTRIMGALORE -\u001B[K\r\n",
      "\u001B[2m[\u001B[0;34m-        \u001B[0;2m] \u001B[0;2mNFC…PLE_FQ_SALMON:\u001B[mSALMON_INDEX -\u001B[K\r\n",
      "\u001B[2m[\u001B[0;34m-        \u001B[0;2m] \u001B[0;2mNFC…PLE_FQ_SALMON:\u001B[mFQ_SUBSAMPLE -\u001B[K\r\n",
      "\u001B[2m[\u001B[0;34m-        \u001B[0;2m] \u001B[0;2mNFC…PLE_FQ_SALMON:\u001B[mSALMON_QUANT -\u001B[K\r\n",
      "\u001B[2m[\u001B[0;34m-        \u001B[0;2m] \u001B[0;2mNFC…ASEQ:ALIGN_STAR:\u001B[mSTAR_ALIGN -\u001B[K\r\n",
      "\u001B[2m[\u001B[0;34m-        \u001B[0;2m] \u001B[0;2mNFC…ATS_SAMTOOLS:\u001B[mSAMTOOLS_SORT -\u001B[K\r\n",
      "\u001B[2m[\u001B[0;34m-        \u001B[0;2m] \u001B[0;2mNFC…TS_SAMTOOLS:\u001B[mSAMTOOLS_INDEX -\u001B[K\r\n",
      "\u001B[2m[\u001B[0;34m-        \u001B[0;2m] \u001B[0;2mNFC…TS_SAMTOOLS:\u001B[mSAMTOOLS_STATS -\u001B[K\r\n",
      "\u001B[2m[\u001B[0;34m-        \u001B[0;2m] \u001B[0;2mNFC…SAMTOOLS:\u001B[mSAMTOOLS_FLAGSTAT -\u001B[K\r\n",
      "\u001B[2m[\u001B[0;34m-        \u001B[0;2m] \u001B[0;2mNFC…SAMTOOLS:\u001B[mSAMTOOLS_IDXSTATS -\u001B[K\r\n",
      "\u001B[2m[\u001B[0;34m-        \u001B[0;2m] \u001B[0;2mNFC…Y_STAR_SALMON:\u001B[mSALMON_QUANT -\u001B[K\r\n",
      "\u001B[2m[\u001B[0;34m-        \u001B[0;2m] \u001B[0;2mNFC…STAR_SALMON:\u001B[mCUSTOM_TX2GENE -\u001B[K\r\n",
      "\u001B[2m[\u001B[0;34m-        \u001B[0;2m] \u001B[0;2mNFC…AR_SALMON:\u001B[mTXIMETA_TXIMPORT -\u001B[K\r\n",
      "\u001B[3;2mPlus \u001B[1m25\u001B[0;3;2m more processes waiting for tasks…\u001B[m\u001B[K\r\n",
      "\u001B[22A\r\n",
      "\u001B[2m[\u001B[0;34m-        \u001B[0;2m] \u001B[0;2mNFC…:PREPARE_GENOME:\u001B[mGTF_FILTER -\u001B[K\r\n",
      "\u001B[2m[\u001B[0;34m-        \u001B[0;2m] \u001B[0;2mNFC…SEQ:PREPARE_GENOME:\u001B[mGTF2BED -\u001B[K\r\n",
      "\u001B[2m[\u001B[0;34m-        \u001B[0;2m] \u001B[0;2mNFC…OME:\u001B[mMAKE_TRANSCRIPTS_FASTA -\u001B[K\r\n",
      "\u001B[2m[\u001B[0;34m-        \u001B[0;2m] \u001B[0;2mNFC…ENOME:\u001B[mCUSTOM_GETCHROMSIZES -\u001B[K\r\n",
      "\u001B[2m[\u001B[0;34m-        \u001B[0;2m] \u001B[0;2mNFC…GENOME:\u001B[mSTAR_GENOMEGENERATE -\u001B[K\r\n",
      "\u001B[2m[\u001B[0;34m-        \u001B[0;2m] \u001B[0;2mNFC…_SETSTRANDEDNESS:\u001B[mCAT_FASTQ -\u001B[K\r\n",
      "\u001B[2m[\u001B[0;34m-        \u001B[0;2m] \u001B[0;2mNFC…UMITOOLS_TRIMGALORE:\u001B[mFASTQC -\u001B[K\r\n",
      "\u001B[2m[\u001B[0;34m-        \u001B[0;2m] \u001B[0;2mNFC…OOLS_TRIMGALORE:\u001B[mTRIMGALORE -\u001B[K\r\n",
      "\u001B[2m[\u001B[0;34m-        \u001B[0;2m] \u001B[0;2mNFC…PLE_FQ_SALMON:\u001B[mSALMON_INDEX -\u001B[K\r\n",
      "\u001B[2m[\u001B[0;34m-        \u001B[0;2m] \u001B[0;2mNFC…PLE_FQ_SALMON:\u001B[mFQ_SUBSAMPLE -\u001B[K\r\n",
      "\u001B[2m[\u001B[0;34m-        \u001B[0;2m] \u001B[0;2mNFC…PLE_FQ_SALMON:\u001B[mSALMON_QUANT -\u001B[K\r\n",
      "\u001B[2m[\u001B[0;34m-        \u001B[0;2m] \u001B[0;2mNFC…ASEQ:ALIGN_STAR:\u001B[mSTAR_ALIGN -\u001B[K\r\n",
      "\u001B[2m[\u001B[0;34m-        \u001B[0;2m] \u001B[0;2mNFC…ATS_SAMTOOLS:\u001B[mSAMTOOLS_SORT -\u001B[K\r\n",
      "\u001B[2m[\u001B[0;34m-        \u001B[0;2m] \u001B[0;2mNFC…TS_SAMTOOLS:\u001B[mSAMTOOLS_INDEX -\u001B[K\r\n",
      "\u001B[2m[\u001B[0;34m-        \u001B[0;2m] \u001B[0;2mNFC…TS_SAMTOOLS:\u001B[mSAMTOOLS_STATS -\u001B[K\r\n",
      "\u001B[2m[\u001B[0;34m-        \u001B[0;2m] \u001B[0;2mNFC…SAMTOOLS:\u001B[mSAMTOOLS_FLAGSTAT -\u001B[K\r\n",
      "\u001B[2m[\u001B[0;34m-        \u001B[0;2m] \u001B[0;2mNFC…SAMTOOLS:\u001B[mSAMTOOLS_IDXSTATS -\u001B[K\r\n",
      "\u001B[2m[\u001B[0;34m-        \u001B[0;2m] \u001B[0;2mNFC…Y_STAR_SALMON:\u001B[mSALMON_QUANT -\u001B[K\r\n",
      "\u001B[2m[\u001B[0;34m-        \u001B[0;2m] \u001B[0;2mNFC…STAR_SALMON:\u001B[mCUSTOM_TX2GENE -\u001B[K\r\n",
      "\u001B[2m[\u001B[0;34m-        \u001B[0;2m] \u001B[0;2mNFC…AR_SALMON:\u001B[mTXIMETA_TXIMPORT -\u001B[K\r\n",
      "\u001B[3;2mPlus \u001B[1m28\u001B[0;3;2m more processes waiting for tasks…\u001B[m\u001B[K\r\n",
      "\u001B[22A\r\n",
      "\u001B[2mexecutor >  local (1)\u001B[m\u001B[K\r\n",
      "\u001B[2m[\u001B[0;34m-        \u001B[0;2m] \u001B[0;2mNFC…:PREPARE_GENOME:\u001B[mGTF_FILTER\u001B[2m |\u001B[m 0 of 1\u001B[K\r\n",
      "\u001B[2m[\u001B[0;34m-        \u001B[0;2m] \u001B[0;2mNFC…SEQ:PREPARE_GENOME:\u001B[mGTF2BED -\u001B[K\r\n",
      "\u001B[2m[\u001B[0;34m-        \u001B[0;2m] \u001B[0;2mNFC…OME:\u001B[mMAKE_TRANSCRIPTS_FASTA -\u001B[K\r\n",
      "\u001B[2m[\u001B[0;34m-        \u001B[0;2m] \u001B[0;2mNFC…ENOME:\u001B[mCUSTOM_GETCHROMSIZES\u001B[2m |\u001B[m 0 of 1\u001B[K\r\n",
      "\u001B[2m[\u001B[0;34m-        \u001B[0;2m] \u001B[0;2mNFC…GENOME:\u001B[mSTAR_GENOMEGENERATE -\u001B[K\r\n",
      "\u001B[2m[\u001B[0;34m-        \u001B[0;2m] \u001B[0;2mNFC…_SETSTRANDEDNESS:\u001B[mCAT_FASTQ -\u001B[K\r\n",
      "\u001B[2m[\u001B[0;34m-        \u001B[0;2m] \u001B[0;2mNFC…UMITOOLS_TRIMGALORE:\u001B[mFASTQC\u001B[2m |\u001B[m 0 of 2\u001B[K\r\n",
      "\u001B[2m[\u001B[0;34m3c/ef5864\u001B[0;2m] \u001B[0;2mNFC…LORE:\u001B[mTRIMGALORE\u001B[33;2m (\u001B[0;33mSHAM_OXY\u001B[2m)\u001B[m\u001B[2m |\u001B[m 0 of 2\u001B[K\r\n",
      "\u001B[2m[\u001B[0;34m-        \u001B[0;2m] \u001B[0;2mNFC…PLE_FQ_SALMON:\u001B[mSALMON_INDEX -\u001B[K\r\n",
      "\u001B[2m[\u001B[0;34m-        \u001B[0;2m] \u001B[0;2mNFC…PLE_FQ_SALMON:\u001B[mFQ_SUBSAMPLE -\u001B[K\r\n",
      "\u001B[2m[\u001B[0;34m-        \u001B[0;2m] \u001B[0;2mNFC…PLE_FQ_SALMON:\u001B[mSALMON_QUANT -\u001B[K\r\n",
      "\u001B[2m[\u001B[0;34m-        \u001B[0;2m] \u001B[0;2mNFC…ASEQ:ALIGN_STAR:\u001B[mSTAR_ALIGN -\u001B[K\r\n",
      "\u001B[2m[\u001B[0;34m-        \u001B[0;2m] \u001B[0;2mNFC…ATS_SAMTOOLS:\u001B[mSAMTOOLS_SORT -\u001B[K\r\n",
      "\u001B[2m[\u001B[0;34m-        \u001B[0;2m] \u001B[0;2mNFC…TS_SAMTOOLS:\u001B[mSAMTOOLS_INDEX -\u001B[K\r\n",
      "\u001B[2m[\u001B[0;34m-        \u001B[0;2m] \u001B[0;2mNFC…TS_SAMTOOLS:\u001B[mSAMTOOLS_STATS -\u001B[K\r\n",
      "\u001B[2m[\u001B[0;34m-        \u001B[0;2m] \u001B[0;2mNFC…SAMTOOLS:\u001B[mSAMTOOLS_FLAGSTAT -\u001B[K\r\n",
      "\u001B[2m[\u001B[0;34m-        \u001B[0;2m] \u001B[0;2mNFC…SAMTOOLS:\u001B[mSAMTOOLS_IDXSTATS -\u001B[K\r\n",
      "\u001B[2m[\u001B[0;34m-        \u001B[0;2m] \u001B[0;2mNFC…Y_STAR_SALMON:\u001B[mSALMON_QUANT -\u001B[K\r\n",
      "\u001B[2m[\u001B[0;34m-        \u001B[0;2m] \u001B[0;2mNFC…STAR_SALMON:\u001B[mCUSTOM_TX2GENE -\u001B[K\r\n",
      "\u001B[2m[\u001B[0;34m-        \u001B[0;2m] \u001B[0;2mNFC…AR_SALMON:\u001B[mTXIMETA_TXIMPORT -\u001B[K\r\n",
      "\u001B[3;2mPlus \u001B[1m29\u001B[0;3;2m more processes waiting for tasks…\u001B[m\u001B[K\r\n",
      "\u001B[23A\r\n",
      "\u001B[2mexecutor >  local (1)\u001B[m\u001B[K\r\n",
      "\u001B[2m[\u001B[0;34m-        \u001B[0;2m] \u001B[0;2mNFC…:PREPARE_GENOME:\u001B[mGTF_FILTER\u001B[2m |\u001B[m 0 of 1\u001B[K\r\n",
      "\u001B[2m[\u001B[0;34m-        \u001B[0;2m] \u001B[0;2mNFC…SEQ:PREPARE_GENOME:\u001B[mGTF2BED -\u001B[K\r\n",
      "\u001B[2m[\u001B[0;34m-        \u001B[0;2m] \u001B[0;2mNFC…OME:\u001B[mMAKE_TRANSCRIPTS_FASTA -\u001B[K\r\n",
      "\u001B[2m[\u001B[0;34m-        \u001B[0;2m] \u001B[0;2mNFC…ENOME:\u001B[mCUSTOM_GETCHROMSIZES\u001B[2m |\u001B[m 0 of 1\u001B[K\r\n",
      "\u001B[2m[\u001B[0;34m-        \u001B[0;2m] \u001B[0;2mNFC…GENOME:\u001B[mSTAR_GENOMEGENERATE -\u001B[K\r\n",
      "\u001B[2m[\u001B[0;34m-        \u001B[0;2m] \u001B[0;2mNFC…_SETSTRANDEDNESS:\u001B[mCAT_FASTQ -\u001B[K\r\n",
      "\u001B[2m[\u001B[0;34m-        \u001B[0;2m] \u001B[0;2mNFC…UMITOOLS_TRIMGALORE:\u001B[mFASTQC\u001B[2m |\u001B[m 0 of 2\u001B[K\r\n",
      "\u001B[2m[\u001B[0;34m3c/ef5864\u001B[0;2m] \u001B[0;2mNFC…LORE:\u001B[mTRIMGALORE\u001B[33;2m (\u001B[0;33mSHAM_OXY\u001B[2m)\u001B[m\u001B[2m |\u001B[m 0 of 2\u001B[K\r\n",
      "\u001B[2m[\u001B[0;34m-        \u001B[0;2m] \u001B[0;2mNFC…PLE_FQ_SALMON:\u001B[mSALMON_INDEX -\u001B[K\r\n",
      "\u001B[2m[\u001B[0;34m-        \u001B[0;2m] \u001B[0;2mNFC…PLE_FQ_SALMON:\u001B[mFQ_SUBSAMPLE -\u001B[K\r\n",
      "\u001B[2m[\u001B[0;34m-        \u001B[0;2m] \u001B[0;2mNFC…PLE_FQ_SALMON:\u001B[mSALMON_QUANT -\u001B[K\r\n",
      "\u001B[2m[\u001B[0;34m-        \u001B[0;2m] \u001B[0;2mNFC…ASEQ:ALIGN_STAR:\u001B[mSTAR_ALIGN -\u001B[K\r\n",
      "\u001B[2m[\u001B[0;34m-        \u001B[0;2m] \u001B[0;2mNFC…ATS_SAMTOOLS:\u001B[mSAMTOOLS_SORT -\u001B[K\r\n",
      "\u001B[2m[\u001B[0;34m-        \u001B[0;2m] \u001B[0;2mNFC…TS_SAMTOOLS:\u001B[mSAMTOOLS_INDEX -\u001B[K\r\n",
      "\u001B[2m[\u001B[0;34m-        \u001B[0;2m] \u001B[0;2mNFC…TS_SAMTOOLS:\u001B[mSAMTOOLS_STATS -\u001B[K\r\n",
      "\u001B[2m[\u001B[0;34m-        \u001B[0;2m] \u001B[0;2mNFC…SAMTOOLS:\u001B[mSAMTOOLS_FLAGSTAT -\u001B[K\r\n",
      "\u001B[2m[\u001B[0;34m-        \u001B[0;2m] \u001B[0;2mNFC…SAMTOOLS:\u001B[mSAMTOOLS_IDXSTATS -\u001B[K\r\n",
      "\u001B[2m[\u001B[0;34m-        \u001B[0;2m] \u001B[0;2mNFC…Y_STAR_SALMON:\u001B[mSALMON_QUANT -\u001B[K\r\n",
      "\u001B[2m[\u001B[0;34m-        \u001B[0;2m] \u001B[0;2mNFC…STAR_SALMON:\u001B[mCUSTOM_TX2GENE -\u001B[K\r\n",
      "\u001B[2m[\u001B[0;34m-        \u001B[0;2m] \u001B[0;2mNFC…AR_SALMON:\u001B[mTXIMETA_TXIMPORT -\u001B[K\r\n",
      "\u001B[3;2mPlus \u001B[1m29\u001B[0;3;2m more processes waiting for tasks…\u001B[m\u001B[K\r\n"
     ]
    }
   ],
   "source": [
    "# post here the command you used to run nf-core/rnaseq\n",
    "\n",
    "!nextflow run nf-core/rnaseq --input samplesheet.csv --outdir output --gtf genomic.gtf --fasta GCF_000001635.27_GRCm39_genomic.fna -profile docker --max_memory=8GB --max_cpus=8"
   ],
   "metadata": {
    "ExecuteTime": {
     "end_time": "2024-10-20T17:29:27.704835Z",
     "start_time": "2024-10-20T17:24:03.138950Z"
    }
   },
   "execution_count": 15
  },
  {
   "cell_type": "markdown",
   "metadata": {},
   "source": [
    "Explain all the parameters you set and why you set them in this way.\n",
    "\n",
    "--input is the samplesheet containing the filepath of the fastq sequencing files to be used, as well as the names of the samples.\n",
    "--outdir specifies the output directory where the output files should be saved\n",
    "--gtf specifies the .gtf file containing genome annotations of the reference genome\n",
    "--fasta specifies the reference genome sequence\n",
    "-profile is used to specify docker\n",
    "--max_memory specifies maximum allowed memory usage\n",
    "--max_cpus specifies maximum allowed CPU usage"
   ]
  },
  {
   "cell_type": "markdown",
   "metadata": {},
   "source": []
  },
  {
   "cell_type": "markdown",
   "metadata": {},
   "source": [
    "## Browsing the results"
   ]
  },
  {
   "cell_type": "markdown",
   "metadata": {},
   "source": [
    "How did the pipeline perform?"
   ]
  },
  {
   "cell_type": "markdown",
   "metadata": {},
   "source": [
    "It required a lot of memory and cpu, resulting in a very long runtime, but it produced the expected results (results received from tutors)."
   ]
  },
  {
   "cell_type": "markdown",
   "metadata": {},
   "source": [
    "Explain the quality control steps. Are you happy with the quality and why. If not, why not. <br>\n",
    "Quality control consists of multiple steps. FastQC is run on the raw sequencing reads to determine the quality scores for each sample/read (as Phred scores). Additional checks include: <br>\n",
    "1. determining the GC content (does it match what is expected)\n",
    "2. length distribution\n",
    "3. duplication levels (can indicate PCR over-amplification)\n",
    "\n",
    "The MultiQC report aggregates the results from multiple quality chcks across different samples.\n",
    "Overall, the quality looks good and the reads show high Phred quality scores, indicating that the sequencing was successful. Two samples did, however, fail the strandedness check.\n",
    "\n",
    "\n",
    "Please give additional information on : \n",
    "- ribosomal rRNA\n",
    "Ideally, we would like a very low level (if any) of rRNA contamination, since we are interested in sequencing mRNA and not rRNA, in order to investigate gene expression levels. SNI_Sal_2 and SNI_Sal_4 have relatively high %rRNA values of 22.08% and 25.10%, respectively, which is not ideal.\n",
    "\n",
    "- Duplication\n",
    "The trimmed sequence duplication levels indicate that 19 out of the 32 samples failed due to high duplication levels which could indicate some kind of enrichment bias (e.g. PCR over amplification). Spikes towards the right end of the FastQC duplication plot could indicate specific enrichments of subsets. SNI_Sal_2 and SNI_Sal_4 showed this spike (and had the highest level of duplication overall), which could mean that the high duplication level is due to their specific enrichment of rRNA.\n",
    "\n",
    "- GC content\n",
    "If we look at the per sequence GC content of the trimmed sequences (FastQC), we see that 14 out of 32 samples failed the quality check because the %GC has two peaks, which could indicate contamination. \n",
    "\n",
    "What are the possible steps that could lead to poorer results?"
   ]
  },
  {
   "cell_type": "markdown",
   "metadata": {},
   "source": [
    "The high level of rRNA contamination could indicate that library prep (rRNA removal) was not performed properly."
   ]
  },
  {
   "cell_type": "markdown",
   "metadata": {},
   "source": [
    "Would you exclude any samples? If yes, which and why?"
   ]
  },
  {
   "cell_type": "markdown",
   "source": [
    "I would think of excluding SNI_Sal_2 and SNI_Sal_4 due to their rRNA contamination and high levels of duplication. These samples also had a low percentage of properly paired reads (both reads in the pair are mapped and fall within an acceptable range from each other). These 2 samples also failed the strandedness check between that provided in the samplesheet and calculated by the RSeQC infer_experiment.py tool, and were also identified as outliers in the DESeq2 PCA plot.\n",
    "\n",
    "\n",
    "Sham_oxy_1 had a lot of unmapped reads because they were too short, which could also be a reason to exclude this sample."
   ],
   "metadata": {
    "collapsed": false
   }
  },
  {
   "cell_type": "markdown",
   "metadata": {},
   "source": [
    "What would you now do to continue the experiment? What are the scientists trying to figure out? Which packages on R or python would you use?"
   ]
  },
  {
   "cell_type": "markdown",
   "metadata": {},
   "source": [
    "To continue, we should look at and compare the gene expression levels between samples. We can run the pipeline with the tool Salmon to quantify gene expression levels and obtain a gene count table (matrix) to compare gene counts and transcript abundance between samples. This will indicate if there are any significant differences in gene expression between samples, and from there we can start to draw conclusions."
   ]
  },
  {
   "cell_type": "markdown",
   "metadata": {},
   "source": []
  }
 ],
 "metadata": {
  "kernelspec": {
   "display_name": "work",
   "language": "python",
   "name": "python3"
  },
  "language_info": {
   "codemirror_mode": {
    "name": "ipython",
    "version": 3
   },
   "file_extension": ".py",
   "mimetype": "text/x-python",
   "name": "python",
   "nbconvert_exporter": "python",
   "pygments_lexer": "ipython3",
   "version": "3.10.13"
  }
 },
 "nbformat": 4,
 "nbformat_minor": 2
}
