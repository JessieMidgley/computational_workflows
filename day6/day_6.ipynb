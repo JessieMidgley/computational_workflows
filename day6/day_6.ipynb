{
 "cells": [
  {
   "cell_type": "markdown",
   "metadata": {},
   "source": [
    "# Day 6 - Nextflow Basics: Introduction to channels and operators"
   ]
  },
  {
   "cell_type": "markdown",
   "metadata": {},
   "source": [
    "Today, we will begin exploring Nextflow, the programming language that powers the advanced nf-core pipelines you worked with last week. Your task is to dive into the core concepts and syntax of Nextflow, understanding how this language enables the development of scalable and reproducible workflows.\n",
    "\n",
    "Nextflow works quite differently from traditional programming languages like Python or Java that you may already be familiar with. To get started, it is essential to understand the foundational concepts that set Nextflow apart."
   ]
  },
  {
   "cell_type": "markdown",
   "metadata": {},
   "source": [
    "### 1. Describe the concept of Workflows, Processes and Channels we deal with in Nextflow"
   ]
  },
  {
   "cell_type": "markdown",
   "metadata": {},
   "source": [
    "Workflows: the overall pipeline which is made up of multiple processes linked together by channels\n",
    "\n",
    "\n",
    "\n",
    "\n",
    "\n",
    "Processes: independent steps in the pipeline. It has a specific input, output, and a script block (which gets executed).\n",
    "\n",
    "\n",
    "\n",
    "\n",
    "\n",
    "\n",
    "Channels: transport data between processes and allow the output of one process to be consumed as the input of another."
   ]
  },
  {
   "cell_type": "markdown",
   "metadata": {},
   "source": [
    "## Introduction to channels\n",
    "\n",
    "Please refer to the file  $\\texttt{channels\\_intro.nf}$ for the next exercises. Then run the code with the respective flag here below. "
   ]
  },
  {
   "cell_type": "code",
   "execution_count": 2,
   "metadata": {
    "ExecuteTime": {
     "end_time": "2024-10-23T06:46:13.137006Z",
     "start_time": "2024-10-23T06:46:10.769679Z"
    }
   },
   "outputs": [
    {
     "name": "stdout",
     "output_type": "stream",
     "text": [
      "\r\n",
      "\u001B[1m\u001B[38;5;232m\u001B[48;5;43m N E X T F L O W \u001B[0;2m  ~  \u001B[mversion 24.04.4\u001B[m\r\n",
      "\u001B[K\r\n",
      "Launching\u001B[35m `channels_intro.nf` \u001B[0;2m[\u001B[0;1;36mamazing_yalow\u001B[0;2m] DSL2 - \u001B[36mrevision: \u001B[0;36m13e64d2356\u001B[m\r\n",
      "\u001B[K\r\n",
      "1\r\n",
      "2\r\n",
      "3\r\n",
      "4\r\n",
      "5\r\n",
      "6\r\n",
      "7\r\n",
      "8\r\n",
      "9\r\n",
      "10\r\n"
     ]
    }
   ],
   "source": [
    "# Task 1 - Create a channel that enumerates the numbers from 1 to 10\n",
    "!nextflow run channels_intro.nf --step 1"
   ]
  },
  {
   "cell_type": "code",
   "execution_count": 3,
   "metadata": {
    "ExecuteTime": {
     "end_time": "2024-10-23T06:46:15.166873Z",
     "start_time": "2024-10-23T06:46:13.133794Z"
    }
   },
   "outputs": [
    {
     "name": "stdout",
     "output_type": "stream",
     "text": [
      "\r\n",
      "\u001B[1m\u001B[38;5;232m\u001B[48;5;43m N E X T F L O W \u001B[0;2m  ~  \u001B[mversion 24.04.4\u001B[m\r\n",
      "\u001B[K\r\n",
      "Launching\u001B[35m `channels_intro.nf` \u001B[0;2m[\u001B[0;1;36mromantic_hodgkin\u001B[0;2m] DSL2 - \u001B[36mrevision: \u001B[0;36m13e64d2356\u001B[m\r\n",
      "\u001B[K\r\n",
      "A\r\n",
      "B\r\n",
      "C\r\n",
      "D\r\n",
      "E\r\n",
      "F\r\n",
      "G\r\n",
      "H\r\n",
      "I\r\n",
      "J\r\n",
      "K\r\n",
      "L\r\n",
      "M\r\n",
      "N\r\n",
      "O\r\n",
      "P\r\n",
      "Q\r\n",
      "R\r\n",
      "S\r\n",
      "T\r\n",
      "U\r\n",
      "V\r\n",
      "W\r\n",
      "X\r\n",
      "Y\r\n",
      "Z\r\n"
     ]
    }
   ],
   "source": [
    "# Task 2 - Create a channel that gives out the entire alphabet\n",
    "!nextflow run channels_intro.nf --step 2"
   ]
  },
  {
   "cell_type": "code",
   "execution_count": 4,
   "metadata": {
    "ExecuteTime": {
     "end_time": "2024-10-23T06:46:17.260682Z",
     "start_time": "2024-10-23T06:46:15.168497Z"
    }
   },
   "outputs": [
    {
     "name": "stdout",
     "output_type": "stream",
     "text": [
      "\r\n",
      "\u001B[1m\u001B[38;5;232m\u001B[48;5;43m N E X T F L O W \u001B[0;2m  ~  \u001B[mversion 24.04.4\u001B[m\r\n",
      "\u001B[K\r\n",
      "Launching\u001B[35m `channels_intro.nf` \u001B[0;2m[\u001B[0;1;36mreverent_bell\u001B[0;2m] DSL2 - \u001B[36mrevision: \u001B[0;36m13e64d2356\u001B[m\r\n",
      "\u001B[K\r\n",
      "/Users/Jessie/PycharmProjects/comp_workflows/day6/files_dir/SRR5_2.fq\r\n",
      "/Users/Jessie/PycharmProjects/comp_workflows/day6/files_dir/fastq5_2.fq\r\n",
      "/Users/Jessie/PycharmProjects/comp_workflows/day6/files_dir/file_4.txt\r\n",
      "/Users/Jessie/PycharmProjects/comp_workflows/day6/files_dir/file_5.txt\r\n",
      "/Users/Jessie/PycharmProjects/comp_workflows/day6/files_dir/file_1.txt\r\n",
      "/Users/Jessie/PycharmProjects/comp_workflows/day6/files_dir/file_2.txt\r\n",
      "/Users/Jessie/PycharmProjects/comp_workflows/day6/files_dir/fastq.fq\r\n",
      "/Users/Jessie/PycharmProjects/comp_workflows/day6/files_dir/fastq4_2.fq\r\n",
      "/Users/Jessie/PycharmProjects/comp_workflows/day6/files_dir/SRR4_2.fq\r\n",
      "/Users/Jessie/PycharmProjects/comp_workflows/day6/files_dir/file_3.txt\r\n",
      "/Users/Jessie/PycharmProjects/comp_workflows/day6/files_dir/SRR.fq\r\n",
      "/Users/Jessie/PycharmProjects/comp_workflows/day6/files_dir/SRR3_2.fq\r\n",
      "/Users/Jessie/PycharmProjects/comp_workflows/day6/files_dir/fastq3_2.fq\r\n",
      "/Users/Jessie/PycharmProjects/comp_workflows/day6/files_dir/fastq_1.fq\r\n",
      "/Users/Jessie/PycharmProjects/comp_workflows/day6/files_dir/fastq2_2.fq\r\n",
      "/Users/Jessie/PycharmProjects/comp_workflows/day6/files_dir/SRR2_2.fq\r\n",
      "/Users/Jessie/PycharmProjects/comp_workflows/day6/files_dir/fastq1_1.fq\r\n",
      "/Users/Jessie/PycharmProjects/comp_workflows/day6/files_dir/SRR1_1.fq\r\n",
      "/Users/Jessie/PycharmProjects/comp_workflows/day6/files_dir/fastq_2.fq\r\n",
      "/Users/Jessie/PycharmProjects/comp_workflows/day6/files_dir/fastq2_1.fq\r\n",
      "/Users/Jessie/PycharmProjects/comp_workflows/day6/files_dir/SRR2_1.fq\r\n",
      "/Users/Jessie/PycharmProjects/comp_workflows/day6/files_dir/fastq1_2.fq\r\n",
      "/Users/Jessie/PycharmProjects/comp_workflows/day6/files_dir/SRR1_2.fq\r\n",
      "/Users/Jessie/PycharmProjects/comp_workflows/day6/files_dir/SRR3_1.fq\r\n",
      "/Users/Jessie/PycharmProjects/comp_workflows/day6/files_dir/fastq3_1.fq\r\n",
      "/Users/Jessie/PycharmProjects/comp_workflows/day6/files_dir/fastq4_1.fq\r\n",
      "/Users/Jessie/PycharmProjects/comp_workflows/day6/files_dir/SRR4_1.fq\r\n",
      "/Users/Jessie/PycharmProjects/comp_workflows/day6/files_dir/SRR5_1.fq\r\n",
      "/Users/Jessie/PycharmProjects/comp_workflows/day6/files_dir/fastq5_1.fq\r\n"
     ]
    }
   ],
   "source": [
    "# Task 3 - Create a channel that includes all files in the \"files_dir\" directory\n",
    "!nextflow run channels_intro.nf --step 3"
   ]
  },
  {
   "cell_type": "code",
   "execution_count": 5,
   "metadata": {
    "ExecuteTime": {
     "end_time": "2024-10-23T06:46:19.274933Z",
     "start_time": "2024-10-23T06:46:17.262124Z"
    }
   },
   "outputs": [
    {
     "name": "stdout",
     "output_type": "stream",
     "text": [
      "\r\n",
      "\u001B[1m\u001B[38;5;232m\u001B[48;5;43m N E X T F L O W \u001B[0;2m  ~  \u001B[mversion 24.04.4\u001B[m\r\n",
      "\u001B[K\r\n",
      "Launching\u001B[35m `channels_intro.nf` \u001B[0;2m[\u001B[0;1;36mnostalgic_varahamihira\u001B[0;2m] DSL2 - \u001B[36mrevision: \u001B[0;36m13e64d2356\u001B[m\r\n",
      "\u001B[K\r\n",
      "/Users/Jessie/PycharmProjects/comp_workflows/day6/files_dir/file_4.txt\r\n",
      "/Users/Jessie/PycharmProjects/comp_workflows/day6/files_dir/file_5.txt\r\n",
      "/Users/Jessie/PycharmProjects/comp_workflows/day6/files_dir/file_1.txt\r\n",
      "/Users/Jessie/PycharmProjects/comp_workflows/day6/files_dir/file_2.txt\r\n",
      "/Users/Jessie/PycharmProjects/comp_workflows/day6/files_dir/file_3.txt\r\n"
     ]
    }
   ],
   "source": [
    "# Task 4 - Create a channel that includes all TXT files in the \"files_dir\" directory\n",
    "!nextflow run channels_intro.nf --step 4"
   ]
  },
  {
   "cell_type": "code",
   "execution_count": 6,
   "metadata": {
    "ExecuteTime": {
     "end_time": "2024-10-23T06:46:21.352365Z",
     "start_time": "2024-10-23T06:46:19.275943Z"
    }
   },
   "outputs": [
    {
     "name": "stdout",
     "output_type": "stream",
     "text": [
      "\r\n",
      "\u001B[1m\u001B[38;5;232m\u001B[48;5;43m N E X T F L O W \u001B[0;2m  ~  \u001B[mversion 24.04.4\u001B[m\r\n",
      "\u001B[K\r\n",
      "Launching\u001B[35m `channels_intro.nf` \u001B[0;2m[\u001B[0;1;36mspontaneous_nightingale\u001B[0;2m] DSL2 - \u001B[36mrevision: \u001B[0;36m13e64d2356\u001B[m\r\n",
      "\u001B[K\r\n",
      "files_dir/fastq_1.fq\r\n",
      "files_dir/fastq_2.fq\r\n"
     ]
    }
   ],
   "source": [
    "# Task 5 - Create a channel that includes the files \"fastq_1.fq\" and \"fastq_2.fq\" in the \"files_dir\" directory\n",
    "!nextflow run channels_intro.nf --step 5"
   ]
  },
  {
   "cell_type": "code",
   "execution_count": 7,
   "metadata": {
    "ExecuteTime": {
     "end_time": "2024-10-23T06:46:23.425631Z",
     "start_time": "2024-10-23T06:46:21.352577Z"
    }
   },
   "outputs": [
    {
     "name": "stdout",
     "output_type": "stream",
     "text": [
      "\r\n",
      "\u001B[1m\u001B[38;5;232m\u001B[48;5;43m N E X T F L O W \u001B[0;2m  ~  \u001B[mversion 24.04.4\u001B[m\r\n",
      "\u001B[K\r\n",
      "Launching\u001B[35m `channels_intro.nf` \u001B[0;2m[\u001B[0;1;36mnaughty_sanger\u001B[0;2m] DSL2 - \u001B[36mrevision: \u001B[0;36m13e64d2356\u001B[m\r\n",
      "\u001B[K\r\n",
      "/Users/Jessie/PycharmProjects/comp_workflows/day6/files_dir/SRR5_2.fq\r\n",
      "/Users/Jessie/PycharmProjects/comp_workflows/day6/files_dir/fastq5_2.fq\r\n",
      "/Users/Jessie/PycharmProjects/comp_workflows/day6/files_dir/file_4.txt\r\n",
      "/Users/Jessie/PycharmProjects/comp_workflows/day6/files_dir/file_5.txt\r\n",
      "/Users/Jessie/PycharmProjects/comp_workflows/day6/files_dir/file_1.txt\r\n",
      "/Users/Jessie/PycharmProjects/comp_workflows/day6/files_dir/file_2.txt\r\n",
      "/Users/Jessie/PycharmProjects/comp_workflows/day6/files_dir/fastq.fq\r\n",
      "/Users/Jessie/PycharmProjects/comp_workflows/day6/files_dir/fastq4_2.fq\r\n",
      "/Users/Jessie/PycharmProjects/comp_workflows/day6/files_dir/SRR4_2.fq\r\n",
      "/Users/Jessie/PycharmProjects/comp_workflows/day6/files_dir/file_3.txt\r\n",
      "/Users/Jessie/PycharmProjects/comp_workflows/day6/files_dir/SRR.fq\r\n",
      "/Users/Jessie/PycharmProjects/comp_workflows/day6/files_dir/SRR3_2.fq\r\n",
      "/Users/Jessie/PycharmProjects/comp_workflows/day6/files_dir/fastq3_2.fq\r\n",
      "/Users/Jessie/PycharmProjects/comp_workflows/day6/files_dir/fastq_1.fq\r\n",
      "/Users/Jessie/PycharmProjects/comp_workflows/day6/files_dir/fastq2_2.fq\r\n",
      "/Users/Jessie/PycharmProjects/comp_workflows/day6/files_dir/SRR2_2.fq\r\n",
      "/Users/Jessie/PycharmProjects/comp_workflows/day6/files_dir/fastq1_1.fq\r\n",
      "/Users/Jessie/PycharmProjects/comp_workflows/day6/files_dir/SRR1_1.fq\r\n",
      "/Users/Jessie/PycharmProjects/comp_workflows/day6/files_dir/fastq_2.fq\r\n",
      "/Users/Jessie/PycharmProjects/comp_workflows/day6/files_dir/fastq2_1.fq\r\n",
      "/Users/Jessie/PycharmProjects/comp_workflows/day6/files_dir/SRR2_1.fq\r\n",
      "/Users/Jessie/PycharmProjects/comp_workflows/day6/files_dir/fastq1_2.fq\r\n",
      "/Users/Jessie/PycharmProjects/comp_workflows/day6/files_dir/SRR1_2.fq\r\n",
      "/Users/Jessie/PycharmProjects/comp_workflows/day6/files_dir/SRR3_1.fq\r\n",
      "/Users/Jessie/PycharmProjects/comp_workflows/day6/files_dir/fastq3_1.fq\r\n",
      "/Users/Jessie/PycharmProjects/comp_workflows/day6/files_dir/fastq4_1.fq\r\n",
      "/Users/Jessie/PycharmProjects/comp_workflows/day6/files_dir/SRR4_1.fq\r\n",
      "/Users/Jessie/PycharmProjects/comp_workflows/day6/files_dir/SRR5_1.fq\r\n",
      "/Users/Jessie/PycharmProjects/comp_workflows/day6/files_dir/fastq5_1.fq\r\n",
      "/Users/Jessie/PycharmProjects/comp_workflows/day6/files_dir/.hidden_2.txt\r\n",
      "/Users/Jessie/PycharmProjects/comp_workflows/day6/files_dir/.hidden_1.txt\r\n"
     ]
    }
   ],
   "source": [
    "# Task 6 - go back to the time when you included all files. Are you sure that really ALL files are included? If not, how can you include them?\n",
    "!nextflow run channels_intro.nf --step 6\n",
    "\n",
    "# Now the hidden files are also shown"
   ]
  },
  {
   "cell_type": "code",
   "execution_count": 8,
   "metadata": {
    "ExecuteTime": {
     "end_time": "2024-10-23T06:46:25.425741Z",
     "start_time": "2024-10-23T06:46:23.426232Z"
    }
   },
   "outputs": [
    {
     "name": "stdout",
     "output_type": "stream",
     "text": [
      "\r\n",
      "\u001B[1m\u001B[38;5;232m\u001B[48;5;43m N E X T F L O W \u001B[0;2m  ~  \u001B[mversion 24.04.4\u001B[m\r\n",
      "\u001B[K\r\n",
      "Launching\u001B[35m `channels_intro.nf` \u001B[0;2m[\u001B[0;1;36mserene_hilbert\u001B[0;2m] DSL2 - \u001B[36mrevision: \u001B[0;36m13e64d2356\u001B[m\r\n",
      "\u001B[K\r\n",
      "[file, [/Users/Jessie/PycharmProjects/comp_workflows/day6/files_dir/file_1.txt, /Users/Jessie/PycharmProjects/comp_workflows/day6/files_dir/file_2.txt]]\r\n",
      "[fastq, [/Users/Jessie/PycharmProjects/comp_workflows/day6/files_dir/fastq_1.fq, /Users/Jessie/PycharmProjects/comp_workflows/day6/files_dir/fastq_2.fq]]\r\n",
      "[fastq2, [/Users/Jessie/PycharmProjects/comp_workflows/day6/files_dir/fastq2_1.fq, /Users/Jessie/PycharmProjects/comp_workflows/day6/files_dir/fastq2_2.fq]]\r\n",
      "[SRR2, [/Users/Jessie/PycharmProjects/comp_workflows/day6/files_dir/SRR2_1.fq, /Users/Jessie/PycharmProjects/comp_workflows/day6/files_dir/SRR2_2.fq]]\r\n",
      "[fastq1, [/Users/Jessie/PycharmProjects/comp_workflows/day6/files_dir/fastq1_1.fq, /Users/Jessie/PycharmProjects/comp_workflows/day6/files_dir/fastq1_2.fq]]\r\n",
      "[SRR1, [/Users/Jessie/PycharmProjects/comp_workflows/day6/files_dir/SRR1_1.fq, /Users/Jessie/PycharmProjects/comp_workflows/day6/files_dir/SRR1_2.fq]]\r\n",
      "[SRR3, [/Users/Jessie/PycharmProjects/comp_workflows/day6/files_dir/SRR3_1.fq, /Users/Jessie/PycharmProjects/comp_workflows/day6/files_dir/SRR3_2.fq]]\r\n",
      "[fastq3, [/Users/Jessie/PycharmProjects/comp_workflows/day6/files_dir/fastq3_1.fq, /Users/Jessie/PycharmProjects/comp_workflows/day6/files_dir/fastq3_2.fq]]\r\n",
      "[fastq4, [/Users/Jessie/PycharmProjects/comp_workflows/day6/files_dir/fastq4_1.fq, /Users/Jessie/PycharmProjects/comp_workflows/day6/files_dir/fastq4_2.fq]]\r\n",
      "[SRR4, [/Users/Jessie/PycharmProjects/comp_workflows/day6/files_dir/SRR4_1.fq, /Users/Jessie/PycharmProjects/comp_workflows/day6/files_dir/SRR4_2.fq]]\r\n",
      "[SRR5, [/Users/Jessie/PycharmProjects/comp_workflows/day6/files_dir/SRR5_1.fq, /Users/Jessie/PycharmProjects/comp_workflows/day6/files_dir/SRR5_2.fq]]\r\n",
      "[fastq5, [/Users/Jessie/PycharmProjects/comp_workflows/day6/files_dir/fastq5_1.fq, /Users/Jessie/PycharmProjects/comp_workflows/day6/files_dir/fastq5_2.fq]]\r\n",
      "[.hidden, [/Users/Jessie/PycharmProjects/comp_workflows/day6/files_dir/.hidden_1.txt, /Users/Jessie/PycharmProjects/comp_workflows/day6/files_dir/.hidden_2.txt]]\r\n"
     ]
    }
   ],
   "source": [
    "# Task 7 - get all filepairs in the \"files_dir\" directory\n",
    "!nextflow run channels_intro.nf --step 7"
   ]
  },
  {
   "cell_type": "markdown",
   "metadata": {},
   "source": [
    "## Now that you have a solid understanding of the basic concepts of channels in Nextflow, it’s time to experiment and see how they work in practice."
   ]
  },
  {
   "cell_type": "markdown",
   "metadata": {},
   "source": [
    "To do so, Nextflow has the concept of Operators to give and pass information inbetween channels.\n",
    "\n",
    "Please answer the questions in $\\texttt{basic\\_channel\\_operations.nf}$ and run the code here. "
   ]
  },
  {
   "cell_type": "code",
   "execution_count": 9,
   "metadata": {
    "ExecuteTime": {
     "end_time": "2024-10-23T06:46:27.475021Z",
     "start_time": "2024-10-23T06:46:25.426461Z"
    }
   },
   "outputs": [
    {
     "name": "stdout",
     "output_type": "stream",
     "text": [
      "\r\n",
      "\u001B[1m\u001B[38;5;232m\u001B[48;5;43m N E X T F L O W \u001B[0;2m  ~  \u001B[mversion 24.04.4\u001B[m\r\n",
      "\u001B[K\r\n",
      "Launching\u001B[35m `basic_channel_operations.nf` \u001B[0;2m[\u001B[0;1;36mmagical_cantor\u001B[0;2m] DSL2 - \u001B[36mrevision: \u001B[0;36m88918e0950\u001B[m\r\n",
      "\u001B[K\r\n",
      "1\r\n"
     ]
    }
   ],
   "source": [
    "# Task 1 - Extract the first item from the channel\n",
    "!nextflow run basic_channel_operations.nf --step 1"
   ]
  },
  {
   "cell_type": "code",
   "execution_count": 10,
   "metadata": {
    "ExecuteTime": {
     "end_time": "2024-10-23T06:46:29.535399Z",
     "start_time": "2024-10-23T06:46:27.475956Z"
    }
   },
   "outputs": [
    {
     "name": "stdout",
     "output_type": "stream",
     "text": [
      "\r\n",
      "\u001B[1m\u001B[38;5;232m\u001B[48;5;43m N E X T F L O W \u001B[0;2m  ~  \u001B[mversion 24.04.4\u001B[m\r\n",
      "\u001B[K\r\n",
      "Launching\u001B[35m `basic_channel_operations.nf` \u001B[0;2m[\u001B[0;1;36mirreverent_ekeblad\u001B[0;2m] DSL2 - \u001B[36mrevision: \u001B[0;36m88918e0950\u001B[m\r\n",
      "\u001B[K\r\n",
      "3\r\n"
     ]
    }
   ],
   "source": [
    "# Task 2 - Extract the last item from the channel\n",
    "!nextflow run basic_channel_operations.nf --step 2"
   ]
  },
  {
   "cell_type": "code",
   "execution_count": 11,
   "metadata": {
    "ExecuteTime": {
     "end_time": "2024-10-23T06:46:31.658524Z",
     "start_time": "2024-10-23T06:46:29.538818Z"
    }
   },
   "outputs": [
    {
     "name": "stdout",
     "output_type": "stream",
     "text": [
      "\r\n",
      "\u001B[1m\u001B[38;5;232m\u001B[48;5;43m N E X T F L O W \u001B[0;2m  ~  \u001B[mversion 24.04.4\u001B[m\r\n",
      "\u001B[K\r\n",
      "Launching\u001B[35m `basic_channel_operations.nf` \u001B[0;2m[\u001B[0;1;36mbackstabbing_crick\u001B[0;2m] DSL2 - \u001B[36mrevision: \u001B[0;36m88918e0950\u001B[m\r\n",
      "\u001B[K\r\n",
      "1\r\n",
      "2\r\n"
     ]
    }
   ],
   "source": [
    "# Task 3 - Use an operator to extract the first two items from the channel\n",
    "!nextflow run basic_channel_operations.nf --step 3"
   ]
  },
  {
   "cell_type": "code",
   "execution_count": 12,
   "metadata": {
    "ExecuteTime": {
     "end_time": "2024-10-23T06:46:33.689885Z",
     "start_time": "2024-10-23T06:46:31.659198Z"
    }
   },
   "outputs": [
    {
     "name": "stdout",
     "output_type": "stream",
     "text": [
      "\r\n",
      "\u001B[1m\u001B[38;5;232m\u001B[48;5;43m N E X T F L O W \u001B[0;2m  ~  \u001B[mversion 24.04.4\u001B[m\r\n",
      "\u001B[K\r\n",
      "Launching\u001B[35m `basic_channel_operations.nf` \u001B[0;2m[\u001B[0;1;36mpensive_shirley\u001B[0;2m] DSL2 - \u001B[36mrevision: \u001B[0;36m88918e0950\u001B[m\r\n",
      "\u001B[K\r\n",
      "4\r\n",
      "9\r\n",
      "16\r\n"
     ]
    }
   ],
   "source": [
    "# Task 4 - Return the squared values of the channel\n",
    "!nextflow run basic_channel_operations.nf --step 4"
   ]
  },
  {
   "cell_type": "code",
   "execution_count": 13,
   "metadata": {
    "ExecuteTime": {
     "end_time": "2024-10-23T06:46:35.760191Z",
     "start_time": "2024-10-23T06:46:33.690791Z"
    }
   },
   "outputs": [
    {
     "name": "stdout",
     "output_type": "stream",
     "text": [
      "\r\n",
      "\u001B[1m\u001B[38;5;232m\u001B[48;5;43m N E X T F L O W \u001B[0;2m  ~  \u001B[mversion 24.04.4\u001B[m\r\n",
      "\u001B[K\r\n",
      "Launching\u001B[35m `basic_channel_operations.nf` \u001B[0;2m[\u001B[0;1;36mkickass_bernard\u001B[0;2m] DSL2 - \u001B[36mrevision: \u001B[0;36m88918e0950\u001B[m\r\n",
      "\u001B[K\r\n",
      "4\r\n",
      "9\r\n"
     ]
    }
   ],
   "source": [
    "# Task 5 - Remember the previous task where you squared the values of the channel. Now, extract the first two items from the squared channel\n",
    "!nextflow run basic_channel_operations.nf --step 5"
   ]
  },
  {
   "cell_type": "code",
   "execution_count": 14,
   "metadata": {
    "ExecuteTime": {
     "end_time": "2024-10-23T06:46:37.899495Z",
     "start_time": "2024-10-23T06:46:35.761245Z"
    }
   },
   "outputs": [
    {
     "name": "stdout",
     "output_type": "stream",
     "text": [
      "\r\n",
      "\u001B[1m\u001B[38;5;232m\u001B[48;5;43m N E X T F L O W \u001B[0;2m  ~  \u001B[mversion 24.04.4\u001B[m\r\n",
      "\u001B[K\r\n",
      "Launching\u001B[35m `basic_channel_operations.nf` \u001B[0;2m[\u001B[0;1;36mmaniac_lichterman\u001B[0;2m] DSL2 - \u001B[36mrevision: \u001B[0;36m88918e0950\u001B[m\r\n",
      "\u001B[K\r\n",
      "rolyaT\r\n",
      "tfiwS\r\n"
     ]
    }
   ],
   "source": [
    "# Task 6 - Remember when you used bash to reverse the output? Try to use map and Groovy to reverse the output\n",
    "!nextflow run basic_channel_operations.nf --step 6"
   ]
  },
  {
   "cell_type": "code",
   "execution_count": 15,
   "metadata": {
    "ExecuteTime": {
     "end_time": "2024-10-23T06:46:39.879763Z",
     "start_time": "2024-10-23T06:46:37.900416Z"
    }
   },
   "outputs": [
    {
     "name": "stdout",
     "output_type": "stream",
     "text": [
      "\r\n",
      "\u001B[1m\u001B[38;5;232m\u001B[48;5;43m N E X T F L O W \u001B[0;2m  ~  \u001B[mversion 24.04.4\u001B[m\r\n",
      "\u001B[K\r\n",
      "Launching\u001B[35m `basic_channel_operations.nf` \u001B[0;2m[\u001B[0;1;36mbig_blackwell\u001B[0;2m] DSL2 - \u001B[36mrevision: \u001B[0;36m88918e0950\u001B[m\r\n",
      "\u001B[K\r\n",
      "[SRR5_2.fq, /Users/Jessie/PycharmProjects/comp_workflows/day6/files_dir/SRR5_2.fq]\r\n",
      "[fastq5_2.fq, /Users/Jessie/PycharmProjects/comp_workflows/day6/files_dir/fastq5_2.fq]\r\n",
      "[fastq.fq, /Users/Jessie/PycharmProjects/comp_workflows/day6/files_dir/fastq.fq]\r\n",
      "[fastq4_2.fq, /Users/Jessie/PycharmProjects/comp_workflows/day6/files_dir/fastq4_2.fq]\r\n",
      "[SRR4_2.fq, /Users/Jessie/PycharmProjects/comp_workflows/day6/files_dir/SRR4_2.fq]\r\n",
      "[SRR.fq, /Users/Jessie/PycharmProjects/comp_workflows/day6/files_dir/SRR.fq]\r\n",
      "[SRR3_2.fq, /Users/Jessie/PycharmProjects/comp_workflows/day6/files_dir/SRR3_2.fq]\r\n",
      "[fastq3_2.fq, /Users/Jessie/PycharmProjects/comp_workflows/day6/files_dir/fastq3_2.fq]\r\n",
      "[fastq_1.fq, /Users/Jessie/PycharmProjects/comp_workflows/day6/files_dir/fastq_1.fq]\r\n",
      "[fastq2_2.fq, /Users/Jessie/PycharmProjects/comp_workflows/day6/files_dir/fastq2_2.fq]\r\n",
      "[SRR2_2.fq, /Users/Jessie/PycharmProjects/comp_workflows/day6/files_dir/SRR2_2.fq]\r\n",
      "[fastq1_1.fq, /Users/Jessie/PycharmProjects/comp_workflows/day6/files_dir/fastq1_1.fq]\r\n",
      "[SRR1_1.fq, /Users/Jessie/PycharmProjects/comp_workflows/day6/files_dir/SRR1_1.fq]\r\n",
      "[fastq_2.fq, /Users/Jessie/PycharmProjects/comp_workflows/day6/files_dir/fastq_2.fq]\r\n",
      "[fastq2_1.fq, /Users/Jessie/PycharmProjects/comp_workflows/day6/files_dir/fastq2_1.fq]\r\n",
      "[SRR2_1.fq, /Users/Jessie/PycharmProjects/comp_workflows/day6/files_dir/SRR2_1.fq]\r\n",
      "[fastq1_2.fq, /Users/Jessie/PycharmProjects/comp_workflows/day6/files_dir/fastq1_2.fq]\r\n",
      "[SRR1_2.fq, /Users/Jessie/PycharmProjects/comp_workflows/day6/files_dir/SRR1_2.fq]\r\n",
      "[SRR3_1.fq, /Users/Jessie/PycharmProjects/comp_workflows/day6/files_dir/SRR3_1.fq]\r\n",
      "[fastq3_1.fq, /Users/Jessie/PycharmProjects/comp_workflows/day6/files_dir/fastq3_1.fq]\r\n",
      "[fastq4_1.fq, /Users/Jessie/PycharmProjects/comp_workflows/day6/files_dir/fastq4_1.fq]\r\n",
      "[SRR4_1.fq, /Users/Jessie/PycharmProjects/comp_workflows/day6/files_dir/SRR4_1.fq]\r\n",
      "[SRR5_1.fq, /Users/Jessie/PycharmProjects/comp_workflows/day6/files_dir/SRR5_1.fq]\r\n",
      "[fastq5_1.fq, /Users/Jessie/PycharmProjects/comp_workflows/day6/files_dir/fastq5_1.fq]\r\n"
     ]
    }
   ],
   "source": [
    "# Task 7 - Use fromPath to include all fastq files in the \"files_dir\" directory, then use map to return a pair containing the file name and the file path (Hint: include groovy code)\n",
    "!nextflow run basic_channel_operations.nf --step 7"
   ]
  },
  {
   "cell_type": "code",
   "execution_count": 16,
   "metadata": {
    "ExecuteTime": {
     "end_time": "2024-10-23T06:46:41.860875Z",
     "start_time": "2024-10-23T06:46:39.880863Z"
    }
   },
   "outputs": [
    {
     "name": "stdout",
     "output_type": "stream",
     "text": [
      "\r\n",
      "\u001B[1m\u001B[38;5;232m\u001B[48;5;43m N E X T F L O W \u001B[0;2m  ~  \u001B[mversion 24.04.4\u001B[m\r\n",
      "\u001B[K\r\n",
      "Launching\u001B[35m `basic_channel_operations.nf` \u001B[0;2m[\u001B[0;1;36msick_bhaskara\u001B[0;2m] DSL2 - \u001B[36mrevision: \u001B[0;36m88918e0950\u001B[m\r\n",
      "\u001B[K\r\n",
      "a\r\n",
      "b\r\n",
      "c\r\n",
      "1\r\n",
      "2\r\n",
      "3\r\n",
      "4\r\n",
      "5\r\n",
      "6\r\n"
     ]
    }
   ],
   "source": [
    "# Task 8 - Combine the items from the two channels into a single channel\n",
    "!nextflow run basic_channel_operations.nf --step 8"
   ]
  },
  {
   "cell_type": "code",
   "execution_count": 17,
   "metadata": {
    "ExecuteTime": {
     "end_time": "2024-10-23T06:46:43.867647Z",
     "start_time": "2024-10-23T06:46:41.861413Z"
    }
   },
   "outputs": [
    {
     "name": "stdout",
     "output_type": "stream",
     "text": [
      "\r\n",
      "\u001B[1m\u001B[38;5;232m\u001B[48;5;43m N E X T F L O W \u001B[0;2m  ~  \u001B[mversion 24.04.4\u001B[m\r\n",
      "\u001B[K\r\n",
      "Launching\u001B[35m `basic_channel_operations.nf` \u001B[0;2m[\u001B[0;1;36mjolly_magritte\u001B[0;2m] DSL2 - \u001B[36mrevision: \u001B[0;36m88918e0950\u001B[m\r\n",
      "\u001B[K\r\n",
      "1\r\n",
      "2\r\n",
      "3\r\n",
      "4\r\n",
      "5\r\n",
      "6\r\n"
     ]
    }
   ],
   "source": [
    "# Task 9 - Flatten the list in the channel\n",
    "!nextflow run basic_channel_operations.nf --step 9"
   ]
  },
  {
   "cell_type": "code",
   "execution_count": 18,
   "metadata": {
    "ExecuteTime": {
     "end_time": "2024-10-23T06:46:45.901145Z",
     "start_time": "2024-10-23T06:46:43.868596Z"
    }
   },
   "outputs": [
    {
     "name": "stdout",
     "output_type": "stream",
     "text": [
      "\r\n",
      "\u001B[1m\u001B[38;5;232m\u001B[48;5;43m N E X T F L O W \u001B[0;2m  ~  \u001B[mversion 24.04.4\u001B[m\r\n",
      "\u001B[K\r\n",
      "Launching\u001B[35m `basic_channel_operations.nf` \u001B[0;2m[\u001B[0;1;36mpensive_rubens\u001B[0;2m] DSL2 - \u001B[36mrevision: \u001B[0;36m88918e0950\u001B[m\r\n",
      "\u001B[K\r\n",
      "[1, 2, 3]\r\n"
     ]
    }
   ],
   "source": [
    "# Task 10 - Collect the items of a channel into a list. What kind of channel is the output channel?\n",
    "!nextflow run basic_channel_operations.nf --step 10"
   ]
  },
  {
   "cell_type": "markdown",
   "metadata": {},
   "source": [
    "What kind of channel is the output channel?\n",
    "A value channel because it emits a single value (list)"
   ]
  },
  {
   "cell_type": "code",
   "execution_count": 19,
   "metadata": {
    "ExecuteTime": {
     "end_time": "2024-10-23T06:46:47.941796Z",
     "start_time": "2024-10-23T06:46:45.902589Z"
    }
   },
   "outputs": [
    {
     "name": "stdout",
     "output_type": "stream",
     "text": [
      "\r\n",
      "\u001B[1m\u001B[38;5;232m\u001B[48;5;43m N E X T F L O W \u001B[0;2m  ~  \u001B[mversion 24.04.4\u001B[m\r\n",
      "\u001B[K\r\n",
      "Launching\u001B[35m `basic_channel_operations.nf` \u001B[0;2m[\u001B[0;1;36mecstatic_swirles\u001B[0;2m] DSL2 - \u001B[36mrevision: \u001B[0;36m88918e0950\u001B[m\r\n",
      "\u001B[K\r\n",
      "[[1, [V, f, B]], [3, [M, G, 33]], [2, [O, L, E]]]\r\n"
     ]
    }
   ],
   "source": [
    "# Task 11 -  From the input channel, create lists where each first item in the list of lists is the first item in the output channel, followed by a list of all the items its paired with\n",
    "!nextflow run basic_channel_operations.nf --step 11"
   ]
  },
  {
   "cell_type": "code",
   "execution_count": 20,
   "metadata": {
    "ExecuteTime": {
     "end_time": "2024-10-23T06:46:49.935668Z",
     "start_time": "2024-10-23T06:46:47.942667Z"
    }
   },
   "outputs": [
    {
     "name": "stdout",
     "output_type": "stream",
     "text": [
      "\r\n",
      "\u001B[1m\u001B[38;5;232m\u001B[48;5;43m N E X T F L O W \u001B[0;2m  ~  \u001B[mversion 24.04.4\u001B[m\r\n",
      "\u001B[K\r\n",
      "Launching\u001B[35m `basic_channel_operations.nf` \u001B[0;2m[\u001B[0;1;36mexotic_mendel\u001B[0;2m] DSL2 - \u001B[36mrevision: \u001B[0;36m88918e0950\u001B[m\r\n",
      "\u001B[K\r\n",
      "[1, V, f]\r\n",
      "[3, M, G]\r\n",
      "[2, O, L]\r\n"
     ]
    }
   ],
   "source": [
    "# Task 12 - Create a channel that joins the input to the output channel. What do you notice?\n",
    "!nextflow run basic_channel_operations.nf --step 12"
   ]
  },
  {
   "cell_type": "markdown",
   "metadata": {},
   "source": [
    "Task 12 - What do you notice compared to Task 11?\n",
    "The join operation only pairs the first matching element from both channels, so that means we don't see all values for a given key"
   ]
  },
  {
   "cell_type": "code",
   "execution_count": 21,
   "metadata": {
    "ExecuteTime": {
     "end_time": "2024-10-23T06:46:51.932411Z",
     "start_time": "2024-10-23T06:46:49.936829Z"
    }
   },
   "outputs": [
    {
     "name": "stdout",
     "output_type": "stream",
     "text": [
      "\r\n",
      "\u001B[1m\u001B[38;5;232m\u001B[48;5;43m N E X T F L O W \u001B[0;2m  ~  \u001B[mversion 24.04.4\u001B[m\r\n",
      "\u001B[K\r\n",
      "Launching\u001B[35m `basic_channel_operations.nf` \u001B[0;2m[\u001B[0;1;36mevil_kirch\u001B[0;2m] DSL2 - \u001B[36mrevision: \u001B[0;36m88918e0950\u001B[m\r\n",
      "\u001B[K\r\n",
      "Even numbers: [2, 4, 6, 8, 10]\r\n",
      "Odd numbers: [1, 3, 5, 7, 9]\r\n"
     ]
    }
   ],
   "source": [
    "# Task 13 - Split the input channel into two channels, one of all the even numbers and the other of all the odd numbers.\n",
    "# Write them to stdout including information about which is which\n",
    "!nextflow run basic_channel_operations.nf --step 13 -dump-channels"
   ]
  },
  {
   "cell_type": "code",
   "execution_count": 22,
   "metadata": {
    "ExecuteTime": {
     "end_time": "2024-10-23T06:46:54.008625Z",
     "start_time": "2024-10-23T06:46:51.933548Z"
    }
   },
   "outputs": [
    {
     "name": "stdout",
     "output_type": "stream",
     "text": [
      "\r\n",
      "\u001B[1m\u001B[38;5;232m\u001B[48;5;43m N E X T F L O W \u001B[0;2m  ~  \u001B[mversion 24.04.4\u001B[m\r\n",
      "\u001B[K\r\n",
      "Launching\u001B[35m `basic_channel_operations.nf` \u001B[0;2m[\u001B[0;1;36mawesome_bose\u001B[0;2m] DSL2 - \u001B[36mrevision: \u001B[0;36m88918e0950\u001B[m\r\n",
      "\u001B[K\r\n",
      "results/names.txt\r\n",
      "Harry\r\n",
      "Ron\r\n",
      "Hermione\r\n",
      "Albus\r\n",
      "Snape\r\n",
      "Hagrid\r\n",
      "Dobby\r\n"
     ]
    }
   ],
   "source": [
    "# Task 14 - Nextflow has the concept of maps. Write the names in the maps in this channel to a file called \"names.txt\". Each name should be on a new line. \n",
    "# Store the file in the \"results\" directory under the name \"names.txt\"\n",
    "\n",
    "!nextflow run basic_channel_operations.nf --step 14\n",
    "\n",
    "!cat results/names.txt\n"
   ]
  },
  {
   "cell_type": "markdown",
   "metadata": {},
   "source": [
    "## Now that we learned about Channels and Operators to deal with them, let's focus on Processes that make use of these channels."
   ]
  },
  {
   "cell_type": "markdown",
   "metadata": {},
   "source": [
    "Please answer the questions in $\\texttt{basics\\_processes.nf}$ and run the code here. "
   ]
  },
  {
   "cell_type": "code",
   "execution_count": 23,
   "metadata": {
    "ExecuteTime": {
     "end_time": "2024-10-23T06:46:56.254029Z",
     "start_time": "2024-10-23T06:46:54.009884Z"
    }
   },
   "outputs": [
    {
     "name": "stdout",
     "output_type": "stream",
     "text": [
      "\r\n",
      "\u001B[1m\u001B[38;5;232m\u001B[48;5;43m N E X T F L O W \u001B[0;2m  ~  \u001B[mversion 24.04.4\u001B[m\r\n",
      "\u001B[K\r\n",
      "Launching\u001B[35m `basics_processes.nf` \u001B[0;2m[\u001B[0;1;36mexotic_church\u001B[0;2m] DSL2 - \u001B[36mrevision: \u001B[0;36mbc58f458dd\u001B[m\r\n",
      "\u001B[K\r\n",
      "\u001B[2m[\u001B[0;34m-        \u001B[0;2m] \u001B[0;2m\u001B[mSAYHELLO -\u001B[K\r\n",
      "\u001B[2A\r\n",
      "\u001B[2mexecutor >  local (1)\u001B[m\u001B[K\r\n",
      "\u001B[2m[\u001B[0;34m9b/27f428\u001B[0;2m] \u001B[0;2m\u001B[mSAYHELLO\u001B[2m |\u001B[m 1 of 1\u001B[32m ✔\u001B[m\u001B[K\r\n",
      "Hello World!\u001B[K\r\n",
      "\u001B[K\r\n",
      "\r\n"
     ]
    }
   ],
   "source": [
    "# Task 1 - create a process that says Hello World! (add debug true to the process right after initializing to be sable to print the output to the console)\n",
    "!nextflow run basics_processes.nf --step 1"
   ]
  },
  {
   "cell_type": "code",
   "execution_count": 24,
   "metadata": {
    "ExecuteTime": {
     "end_time": "2024-10-23T06:46:58.499726Z",
     "start_time": "2024-10-23T06:46:56.254964Z"
    }
   },
   "outputs": [
    {
     "name": "stdout",
     "output_type": "stream",
     "text": [
      "\r\n",
      "\u001B[1m\u001B[38;5;232m\u001B[48;5;43m N E X T F L O W \u001B[0;2m  ~  \u001B[mversion 24.04.4\u001B[m\r\n",
      "\u001B[K\r\n",
      "Launching\u001B[35m `basics_processes.nf` \u001B[0;2m[\u001B[0;1;36mfurious_mirzakhani\u001B[0;2m] DSL2 - \u001B[36mrevision: \u001B[0;36mbc58f458dd\u001B[m\r\n",
      "\u001B[K\r\n",
      "\u001B[2mexecutor >  local (1)\u001B[m\u001B[K\r\n",
      "\u001B[2m[\u001B[0;34m5d/1caa81\u001B[0;2m] \u001B[0;2m\u001B[mSAYHELLO_PYTHON\u001B[2m |\u001B[m 0 of 1\u001B[K\r\n",
      "\u001B[3A\r\n",
      "\u001B[2mexecutor >  local (1)\u001B[m\u001B[K\r\n",
      "\u001B[2m[\u001B[0;34m5d/1caa81\u001B[0;2m] \u001B[0;2m\u001B[mSAYHELLO_PYTHON\u001B[2m |\u001B[m 1 of 1\u001B[32m ✔\u001B[m\u001B[K\r\n",
      "Hello World!\u001B[K\r\n",
      "\u001B[K\r\n",
      "\r\n"
     ]
    }
   ],
   "source": [
    "# Task 2 - create a process that says Hello World! using Python\n",
    "!nextflow run basics_processes.nf --step 2"
   ]
  },
  {
   "cell_type": "code",
   "execution_count": 25,
   "metadata": {
    "ExecuteTime": {
     "end_time": "2024-10-23T06:47:00.707472Z",
     "start_time": "2024-10-23T06:46:58.500423Z"
    }
   },
   "outputs": [
    {
     "name": "stdout",
     "output_type": "stream",
     "text": [
      "\r\n",
      "\u001B[1m\u001B[38;5;232m\u001B[48;5;43m N E X T F L O W \u001B[0;2m  ~  \u001B[mversion 24.04.4\u001B[m\r\n",
      "\u001B[K\r\n",
      "Launching\u001B[35m `basics_processes.nf` \u001B[0;2m[\u001B[0;1;36mlethal_euler\u001B[0;2m] DSL2 - \u001B[36mrevision: \u001B[0;36mbc58f458dd\u001B[m\r\n",
      "\u001B[K\r\n",
      "\u001B[2m[\u001B[0;34m-        \u001B[0;2m] \u001B[0;2m\u001B[mSAYHELLO_PARAM -\u001B[K\r\n",
      "\u001B[2A\r\n",
      "\u001B[2mexecutor >  local (1)\u001B[m\u001B[K\r\n",
      "\u001B[2m[\u001B[0;34m3f/e20b40\u001B[0;2m] \u001B[0;2m\u001B[mSAYHELLO_PARAM\u001B[33;2m (\u001B[0;33m1\u001B[2m)\u001B[m\u001B[2m |\u001B[m 1 of 1\u001B[32m ✔\u001B[m\u001B[K\r\n",
      "Hello world!\u001B[K\r\n",
      "\u001B[K\r\n",
      "\r\n"
     ]
    }
   ],
   "source": [
    "# Task 3 - create a process that reads in the string \"Hello world!\" from a channel and write it to command line\n",
    "!nextflow run basics_processes.nf --step 3"
   ]
  },
  {
   "cell_type": "code",
   "execution_count": 26,
   "metadata": {
    "ExecuteTime": {
     "end_time": "2024-10-23T06:47:02.945551Z",
     "start_time": "2024-10-23T06:47:00.708804Z"
    }
   },
   "outputs": [
    {
     "name": "stdout",
     "output_type": "stream",
     "text": [
      "\r\n",
      "\u001B[1m\u001B[38;5;232m\u001B[48;5;43m N E X T F L O W \u001B[0;2m  ~  \u001B[mversion 24.04.4\u001B[m\r\n",
      "\u001B[K\r\n",
      "Launching\u001B[35m `basics_processes.nf` \u001B[0;2m[\u001B[0;1;36mcondescending_albattani\u001B[0;2m] DSL2 - \u001B[36mrevision: \u001B[0;36mbc58f458dd\u001B[m\r\n",
      "\u001B[K\r\n",
      "\u001B[2m[\u001B[0;34m-        \u001B[0;2m] \u001B[0;2m\u001B[mSAYHELLO_FILE\u001B[2m |\u001B[m 0 of 1\u001B[K\r\n",
      "\u001B[2A\r\n",
      "\u001B[2mexecutor >  local (1)\u001B[m\u001B[K\r\n",
      "\u001B[2m[\u001B[0;34maf/d73713\u001B[0;2m] \u001B[0;2m\u001B[mSAYHELLO_FILE\u001B[33;2m (\u001B[0;33m1\u001B[2m)\u001B[m\u001B[2m |\u001B[m 1 of 1\u001B[32m ✔\u001B[m\u001B[K\r\n",
      "\r\n"
     ]
    }
   ],
   "source": [
    "# Task 4 - create a process that reads in the string \"Hello world!\" from a channel and write it to a file. \n",
    "!nextflow run basics_processes.nf --step 4"
   ]
  },
  {
   "cell_type": "markdown",
   "metadata": {},
   "source": [
    "It might be that you created the file but it doesnt appear in the directory. Use the work folder and the output on the command line to find the file."
   ]
  },
  {
   "cell_type": "code",
   "execution_count": 27,
   "metadata": {
    "ExecuteTime": {
     "end_time": "2024-10-23T06:47:05.200202Z",
     "start_time": "2024-10-23T06:47:02.946946Z"
    }
   },
   "outputs": [
    {
     "name": "stdout",
     "output_type": "stream",
     "text": [
      "\r\n",
      "\u001B[1m\u001B[38;5;232m\u001B[48;5;43m N E X T F L O W \u001B[0;2m  ~  \u001B[mversion 24.04.4\u001B[m\r\n",
      "\u001B[K\r\n",
      "Launching\u001B[35m `basics_processes.nf` \u001B[0;2m[\u001B[0;1;36msoggy_hawking\u001B[0;2m] DSL2 - \u001B[36mrevision: \u001B[0;36mbc58f458dd\u001B[m\r\n",
      "\u001B[K\r\n",
      "\u001B[2m[\u001B[0;34m-        \u001B[0;2m] \u001B[0;2m\u001B[mUPPERCASE -\u001B[K\r\n",
      "\u001B[2A\r\n",
      "\u001B[2mexecutor >  local (1)\u001B[m\u001B[K\r\n",
      "\u001B[2m[\u001B[0;34m5c/a2dbe8\u001B[0;2m] \u001B[0;2m\u001B[mUPPERCASE\u001B[33;2m (\u001B[0;33m1\u001B[2m)\u001B[m\u001B[2m |\u001B[m 1 of 1\u001B[32m ✔\u001B[m\u001B[K\r\n",
      "/Users/Jessie/PycharmProjects/comp_workflows/day6/work/5c/a2dbe84af94190bb1432bcc602c6c7/greeting_uppercase.txt\u001B[K\r\n",
      "\r\n"
     ]
    }
   ],
   "source": [
    "# Task 5 - create a process that reads in a string and converts it to uppercase and saves it to a file as output. View the path to the file in the console\n",
    "!nextflow run basics_processes.nf --step 5"
   ]
  },
  {
   "cell_type": "code",
   "execution_count": 28,
   "metadata": {
    "ExecuteTime": {
     "end_time": "2024-10-23T06:47:07.616304Z",
     "start_time": "2024-10-23T06:47:05.200986Z"
    }
   },
   "outputs": [
    {
     "name": "stdout",
     "output_type": "stream",
     "text": [
      "\r\n",
      "\u001B[1m\u001B[38;5;232m\u001B[48;5;43m N E X T F L O W \u001B[0;2m  ~  \u001B[mversion 24.04.4\u001B[m\r\n",
      "\u001B[K\r\n",
      "Launching\u001B[35m `basics_processes.nf` \u001B[0;2m[\u001B[0;1;36minfallible_montalcini\u001B[0;2m] DSL2 - \u001B[36mrevision: \u001B[0;36mbc58f458dd\u001B[m\r\n",
      "\u001B[K\r\n",
      "\u001B[2m[\u001B[0;34m-        \u001B[0;2m] \u001B[0;2m\u001B[mUPPERCASE  -\u001B[K\r\n",
      "\u001B[2m[\u001B[0;34m-        \u001B[0;2m] \u001B[0;2m\u001B[mPRINTUPPER -\u001B[K\r\n",
      "\u001B[3A\r\n",
      "\u001B[2mexecutor >  local (2)\u001B[m\u001B[K\r\n",
      "\u001B[2m[\u001B[0;34m61/5a60ba\u001B[0;2m] \u001B[0;2m\u001B[mUPPERCASE\u001B[33;2m (\u001B[0;33m1\u001B[2m)\u001B[m \u001B[2m |\u001B[m 1 of 1\u001B[32m ✔\u001B[m\u001B[K\r\n",
      "\u001B[2m[\u001B[0;34m94/a7c154\u001B[0;2m] \u001B[0;2m\u001B[mPRINTUPPER\u001B[33;2m (\u001B[0;33m1\u001B[2m)\u001B[m\u001B[2m |\u001B[m 1 of 1\u001B[32m ✔\u001B[m\u001B[K\r\n",
      "HELLO WORLD!\u001B[K\r\n",
      "\u001B[K\r\n",
      "\u001B[6A\r\n",
      "\u001B[2mexecutor >  local (2)\u001B[m\u001B[K\r\n",
      "\u001B[2m[\u001B[0;34m61/5a60ba\u001B[0;2m] \u001B[0;2m\u001B[mUPPERCASE\u001B[33;2m (\u001B[0;33m1\u001B[2m)\u001B[m \u001B[2m |\u001B[m 1 of 1\u001B[32m ✔\u001B[m\u001B[K\r\n",
      "\u001B[2m[\u001B[0;34m94/a7c154\u001B[0;2m] \u001B[0;2m\u001B[mPRINTUPPER\u001B[33;2m (\u001B[0;33m1\u001B[2m)\u001B[m\u001B[2m |\u001B[m 1 of 1\u001B[32m ✔\u001B[m\u001B[K\r\n",
      "HELLO WORLD!\u001B[K\r\n",
      "\u001B[K\r\n",
      "\r\n"
     ]
    }
   ],
   "source": [
    "# Task 6 - add another process that reads in the resulting file from UPPERCASE and print the content to the console (debug true).\n",
    "!nextflow run basics_processes.nf --step 6"
   ]
  },
  {
   "cell_type": "markdown",
   "metadata": {},
   "source": [
    "Compared to all the other runs. What changed in the output here and why?\n",
    "Now there are 2 processes which were executed"
   ]
  },
  {
   "cell_type": "code",
   "execution_count": 29,
   "metadata": {
    "ExecuteTime": {
     "end_time": "2024-10-23T06:47:10.057670Z",
     "start_time": "2024-10-23T06:47:07.622138Z"
    }
   },
   "outputs": [
    {
     "name": "stdout",
     "output_type": "stream",
     "text": [
      "\r\n",
      "\u001B[1m\u001B[38;5;232m\u001B[48;5;43m N E X T F L O W \u001B[0;2m  ~  \u001B[mversion 24.04.4\u001B[m\r\n",
      "\u001B[K\r\n",
      "Launching\u001B[35m `basics_processes.nf` \u001B[0;2m[\u001B[0;1;36mspontaneous_montalcini\u001B[0;2m] DSL2 - \u001B[36mrevision: \u001B[0;36mbc58f458dd\u001B[m\r\n",
      "\u001B[K\r\n",
      "\u001B[2m[\u001B[0;34m-        \u001B[0;2m] \u001B[0;2m\u001B[mUPPERCASE -\u001B[K\r\n",
      "\u001B[2m[\u001B[0;34m-        \u001B[0;2m] \u001B[0;2m\u001B[mZIPPING   -\u001B[K\r\n",
      "\u001B[3A\r\n",
      "\u001B[2mexecutor >  local (2)\u001B[m\u001B[K\r\n",
      "\u001B[2m[\u001B[0;34m4a/27157d\u001B[0;2m] \u001B[0;2m\u001B[mUPPERCASE\u001B[33;2m (\u001B[0;33m1\u001B[2m)\u001B[m\u001B[2m |\u001B[m 1 of 1\u001B[32m ✔\u001B[m\u001B[K\r\n",
      "\u001B[2m[\u001B[0;34m40/bf06a5\u001B[0;2m] \u001B[0;2m\u001B[mZIPPING\u001B[33;2m (\u001B[0;33m1\u001B[2m)\u001B[m  \u001B[2m |\u001B[m 1 of 1\u001B[32m ✔\u001B[m\u001B[K\r\n",
      "  adding: greeting_uppercase.txt (stored 0%)\u001B[K\r\n",
      "\u001B[K\r\n",
      "/Users/Jessie/PycharmProjects/comp_workflows/day6/work/40/bf06a5d2e9ade465973d5042c08571/greeting_uppercase.zip\u001B[K\r\n",
      "\u001B[7A\r\n",
      "\u001B[2mexecutor >  local (2)\u001B[m\u001B[K\r\n",
      "\u001B[2m[\u001B[0;34m4a/27157d\u001B[0;2m] \u001B[0;2m\u001B[mUPPERCASE\u001B[33;2m (\u001B[0;33m1\u001B[2m)\u001B[m\u001B[2m |\u001B[m 1 of 1\u001B[32m ✔\u001B[m\u001B[K\r\n",
      "\u001B[2m[\u001B[0;34m40/bf06a5\u001B[0;2m] \u001B[0;2m\u001B[mZIPPING\u001B[33;2m (\u001B[0;33m1\u001B[2m)\u001B[m  \u001B[2m |\u001B[m 1 of 1\u001B[32m ✔\u001B[m\u001B[K\r\n",
      "  adding: greeting_uppercase.txt (stored 0%)\u001B[K\r\n",
      "\u001B[K\r\n",
      "/Users/Jessie/PycharmProjects/comp_workflows/day6/work/40/bf06a5d2e9ade465973d5042c08571/greeting_uppercase.zip\u001B[K\r\n",
      "\r\n"
     ]
    }
   ],
   "source": [
    "# Task 7 - based on the paramater \"zip\" (see at the head of the file), create a process that zips the file created in the UPPERCASE process either in \"zip\", \"gzip\" OR \"bzip2\" format.\n",
    "#          Print out the path to the zipped file in the console\n",
    "!nextflow run basics_processes.nf --step 7"
   ]
  },
  {
   "cell_type": "code",
   "execution_count": 30,
   "metadata": {
    "ExecuteTime": {
     "end_time": "2024-10-23T06:47:12.498744Z",
     "start_time": "2024-10-23T06:47:10.058333Z"
    }
   },
   "outputs": [
    {
     "name": "stdout",
     "output_type": "stream",
     "text": [
      "\r\n",
      "\u001B[1m\u001B[38;5;232m\u001B[48;5;43m N E X T F L O W \u001B[0;2m  ~  \u001B[mversion 24.04.4\u001B[m\r\n",
      "\u001B[K\r\n",
      "Launching\u001B[35m `basics_processes.nf` \u001B[0;2m[\u001B[0;1;36mshrivelled_ekeblad\u001B[0;2m] DSL2 - \u001B[36mrevision: \u001B[0;36mbc58f458dd\u001B[m\r\n",
      "\u001B[K\r\n",
      "\u001B[2m[\u001B[0;34m-        \u001B[0;2m] \u001B[0;2m\u001B[mUPPERCASE -\u001B[K\r\n",
      "\u001B[2m[\u001B[0;34m-        \u001B[0;2m] \u001B[0;2m\u001B[mZIP_ALL   -\u001B[K\r\n",
      "\u001B[3A\r\n",
      "\u001B[2mexecutor >  local (2)\u001B[m\u001B[K\r\n",
      "\u001B[2m[\u001B[0;34md7/e0bab8\u001B[0;2m] \u001B[0;2m\u001B[mUPPERCASE\u001B[33;2m (\u001B[0;33m1\u001B[2m)\u001B[m\u001B[2m |\u001B[m 1 of 1\u001B[32m ✔\u001B[m\u001B[K\r\n",
      "\u001B[2m[\u001B[0;34mdb/acce02\u001B[0;2m] \u001B[0;2m\u001B[mZIP_ALL\u001B[33;2m (\u001B[0;33m1\u001B[2m)\u001B[m  \u001B[2m |\u001B[m 1 of 1\u001B[32m ✔\u001B[m\u001B[K\r\n",
      "  adding: greeting_uppercase.txt (stored 0%)\u001B[K\r\n",
      "\u001B[K\r\n",
      "[/Users/Jessie/PycharmProjects/comp_workflows/day6/work/db/acce02680d52ba99b9d53f25bcafc9/greeting_uppercase.txt.bz2, /Users/Jessie/PycharmProjects/comp_workflows/day6/work/db/acce02680d52ba99b9d53f25bcafc9/greeting_uppercase.txt.gz, /Users/Jessie/PycharmProjects/comp_workflows/day6/work/db/acce02680d52ba99b9d53f25bcafc9/greeting_uppercase.zip]\u001B[K\r\n",
      "\u001B[7A\r\n",
      "\u001B[2mexecutor >  local (2)\u001B[m\u001B[K\r\n",
      "\u001B[2m[\u001B[0;34md7/e0bab8\u001B[0;2m] \u001B[0;2m\u001B[mUPPERCASE\u001B[33;2m (\u001B[0;33m1\u001B[2m)\u001B[m\u001B[2m |\u001B[m 1 of 1\u001B[32m ✔\u001B[m\u001B[K\r\n",
      "\u001B[2m[\u001B[0;34mdb/acce02\u001B[0;2m] \u001B[0;2m\u001B[mZIP_ALL\u001B[33;2m (\u001B[0;33m1\u001B[2m)\u001B[m  \u001B[2m |\u001B[m 1 of 1\u001B[32m ✔\u001B[m\u001B[K\r\n",
      "  adding: greeting_uppercase.txt (stored 0%)\u001B[K\r\n",
      "\u001B[K\r\n",
      "[/Users/Jessie/PycharmProjects/comp_workflows/day6/work/db/acce02680d52ba99b9d53f25bcafc9/greeting_uppercase.txt.bz2, /Users/Jessie/PycharmProjects/comp_workflows/day6/work/db/acce02680d52ba99b9d53f25bcafc9/greeting_uppercase.txt.gz, /Users/Jessie/PycharmProjects/comp_workflows/day6/work/db/acce02680d52ba99b9d53f25bcafc9/greeting_uppercase.zip]\u001B[K\r\n",
      "\r\n"
     ]
    }
   ],
   "source": [
    "# Task 8 - Create a process that zips the file created in the UPPERCASE process in \"zip\", \"gzip\" AND \"bzip2\" format. Print out the paths to the zipped files in the console\n",
    "!nextflow run basics_processes.nf --step 8"
   ]
  },
  {
   "cell_type": "code",
   "execution_count": 31,
   "metadata": {
    "ExecuteTime": {
     "end_time": "2024-10-23T06:47:14.916389Z",
     "start_time": "2024-10-23T06:47:12.500035Z"
    }
   },
   "outputs": [
    {
     "name": "stdout",
     "output_type": "stream",
     "text": [
      "\r\n",
      "\u001B[1m\u001B[38;5;232m\u001B[48;5;43m N E X T F L O W \u001B[0;2m  ~  \u001B[mversion 24.04.4\u001B[m\r\n",
      "\u001B[K\r\n",
      "Launching\u001B[35m `basics_processes.nf` \u001B[0;2m[\u001B[0;1;36minfallible_waddington\u001B[0;2m] DSL2 - \u001B[36mrevision: \u001B[0;36mbc58f458dd\u001B[m\r\n",
      "\u001B[K\r\n",
      "\u001B[2m[\u001B[0;34m-        \u001B[0;2m] \u001B[0;2m\u001B[mWRITETOFILE -\u001B[K\r\n",
      "\u001B[2A\r\n",
      "\u001B[2mexecutor >  local (7)\u001B[m\u001B[K\r\n",
      "\u001B[2m[\u001B[0;34m69/314838\u001B[0;2m] \u001B[0;2m\u001B[mWRITETOFILE\u001B[33;2m (\u001B[0;33m6\u001B[2m)\u001B[m\u001B[2m |\u001B[m 7 of 7\u001B[32m ✔\u001B[m\u001B[K\r\n",
      "results/names.tsv\u001B[K\r\n",
      "\u001B[4A\r\n",
      "\u001B[2mexecutor >  local (7)\u001B[m\u001B[K\r\n",
      "\u001B[2m[\u001B[0;34m69/314838\u001B[0;2m] \u001B[0;2m\u001B[mWRITETOFILE\u001B[33;2m (\u001B[0;33m6\u001B[2m)\u001B[m\u001B[2m |\u001B[m 7 of 7\u001B[32m ✔\u001B[m\u001B[K\r\n",
      "results/names.tsv\u001B[K\r\n",
      "\r\n"
     ]
    }
   ],
   "source": [
    " # Task 9 - Create a process that reads in a list of names and titles from a channel and writes them to a file.\n",
    "#           Store the file in the \"results\" directory under the name \"names.tsv\"\n",
    "!nextflow run basics_processes.nf --step 9"
   ]
  },
  {
   "cell_type": "code",
   "execution_count": 32,
   "metadata": {
    "ExecuteTime": {
     "end_time": "2024-10-23T06:47:15.809641Z",
     "start_time": "2024-10-23T06:47:14.917362Z"
    }
   },
   "outputs": [
    {
     "data": {
      "text/plain": "       name         title\n0  Hermione       student\n1     Dobby          hero\n2       Ron       student\n3     Albus    headmaster\n4     Harry       student\n5     Snape       teacher\n6    Hagrid  groundkeeper",
      "text/html": "<div>\n<style scoped>\n    .dataframe tbody tr th:only-of-type {\n        vertical-align: middle;\n    }\n\n    .dataframe tbody tr th {\n        vertical-align: top;\n    }\n\n    .dataframe thead th {\n        text-align: right;\n    }\n</style>\n<table border=\"1\" class=\"dataframe\">\n  <thead>\n    <tr style=\"text-align: right;\">\n      <th></th>\n      <th>name</th>\n      <th>title</th>\n    </tr>\n  </thead>\n  <tbody>\n    <tr>\n      <th>0</th>\n      <td>Hermione</td>\n      <td>student</td>\n    </tr>\n    <tr>\n      <th>1</th>\n      <td>Dobby</td>\n      <td>hero</td>\n    </tr>\n    <tr>\n      <th>2</th>\n      <td>Ron</td>\n      <td>student</td>\n    </tr>\n    <tr>\n      <th>3</th>\n      <td>Albus</td>\n      <td>headmaster</td>\n    </tr>\n    <tr>\n      <th>4</th>\n      <td>Harry</td>\n      <td>student</td>\n    </tr>\n    <tr>\n      <th>5</th>\n      <td>Snape</td>\n      <td>teacher</td>\n    </tr>\n    <tr>\n      <th>6</th>\n      <td>Hagrid</td>\n      <td>groundkeeper</td>\n    </tr>\n  </tbody>\n</table>\n</div>"
     },
     "execution_count": 32,
     "metadata": {},
     "output_type": "execute_result"
    }
   ],
   "source": [
    "import pandas as pd\n",
    "\n",
    "df = pd.read_csv(\"results/names.tsv\", sep=\"\\t\")\n",
    "df"
   ]
  },
  {
   "cell_type": "markdown",
   "metadata": {},
   "source": [
    "## Now, let's try some more advanced Operators"
   ]
  },
  {
   "cell_type": "markdown",
   "metadata": {},
   "source": [
    "Please answer the questions in $\\texttt{advanced\\_channel\\_operations.nf}$ and run the code here. "
   ]
  },
  {
   "cell_type": "markdown",
   "metadata": {},
   "source": [
    "To come closer to actual pipelines, we introduce the concept of \"meta-maps\" which you can imagine as dictionaries that are passed with data via channels containing crucial metadata on the sample. \n",
    "\n",
    "Also, we will come back to samplesheets which you should remember from last week."
   ]
  },
  {
   "cell_type": "code",
   "execution_count": 33,
   "metadata": {
    "ExecuteTime": {
     "end_time": "2024-10-23T06:47:17.934628Z",
     "start_time": "2024-10-23T06:47:15.806010Z"
    }
   },
   "outputs": [
    {
     "name": "stdout",
     "output_type": "stream",
     "text": [
      "\r\n",
      "\u001B[1m\u001B[38;5;232m\u001B[48;5;43m N E X T F L O W \u001B[0;2m  ~  \u001B[mversion 24.04.4\u001B[m\r\n",
      "\u001B[K\r\n",
      "Launching\u001B[35m `advanced_channel_operations.nf` \u001B[0;2m[\u001B[0;1;36msad_sanger\u001B[0;2m] DSL2 - \u001B[36mrevision: \u001B[0;36mf494fd7b40\u001B[m\r\n",
      "\u001B[K\r\n",
      "[sample:CONTROL_REP1, fastq_1:fq_1_R1.fastq.gz, fastq_2:fq_1_R2.fastq.gz, strandedness:auto]\r\n",
      "[sample:CONTROL_REP2, fastq_1:fq_2_R1.fastq.gz, fastq_2:fq_2_R2.fastq.gz, strandedness:forward]\r\n",
      "[sample:CONTROL_REP3, fastq_1:fq_3_R1.fastq.gz, fastq_2:fq_3_R2.fastq.gz, strandedness:reverse]\r\n",
      "[sample:CONTROL_REP1, fastq_1:fq_4_R1.fastq.gz, fastq_2:fq_4_R2.fastq.gz, strandedness:auto]\r\n"
     ]
    }
   ],
   "source": [
    "# Task 1 - Read in the samplesheet.\n",
    "\n",
    "!nextflow run advanced_channel_operations.nf --step 1"
   ]
  },
  {
   "cell_type": "code",
   "execution_count": 34,
   "metadata": {
    "ExecuteTime": {
     "end_time": "2024-10-23T06:47:19.893449Z",
     "start_time": "2024-10-23T06:47:17.935856Z"
    }
   },
   "outputs": [
    {
     "name": "stdout",
     "output_type": "stream",
     "text": [
      "\r\n",
      "\u001B[1m\u001B[38;5;232m\u001B[48;5;43m N E X T F L O W \u001B[0;2m  ~  \u001B[mversion 24.04.4\u001B[m\r\n",
      "\u001B[K\r\n",
      "Launching\u001B[35m `advanced_channel_operations.nf` \u001B[0;2m[\u001B[0;1;36msleepy_planck\u001B[0;2m] DSL2 - \u001B[36mrevision: \u001B[0;36mf494fd7b40\u001B[m\r\n",
      "\u001B[K\r\n",
      "[[sample:CONTROL_REP1, fastq_1:fq_1_R1.fastq.gz, fastq_2:fq_1_R2.fastq.gz, strandedness:auto], [fq_1_R1.fastq.gz, fq_1_R2.fastq.gz]]\r\n",
      "[[sample:CONTROL_REP2, fastq_1:fq_2_R1.fastq.gz, fastq_2:fq_2_R2.fastq.gz, strandedness:forward], [fq_2_R1.fastq.gz, fq_2_R2.fastq.gz]]\r\n",
      "[[sample:CONTROL_REP3, fastq_1:fq_3_R1.fastq.gz, fastq_2:fq_3_R2.fastq.gz, strandedness:reverse], [fq_3_R1.fastq.gz, fq_3_R2.fastq.gz]]\r\n",
      "[[sample:CONTROL_REP1, fastq_1:fq_4_R1.fastq.gz, fastq_2:fq_4_R2.fastq.gz, strandedness:auto], [fq_4_R1.fastq.gz, fq_4_R2.fastq.gz]]\r\n"
     ]
    }
   ],
   "source": [
    "# Task 2 - Read in the samplesheet and create a meta-map with all metadata and another list with the filenames ([[metadata_1 : metadata_1, ...], [fastq_1, fastq_2]]).\n",
    "#          Set the output to a new channel \"in_ch\" and view the channel. YOU WILL NEED TO COPY AND PASTE THIS CODE INTO SOME OF THE FOLLOWING TASKS (sorry for that).\n",
    "\n",
    "!nextflow run advanced_channel_operations.nf --step 2"
   ]
  },
  {
   "cell_type": "code",
   "execution_count": 35,
   "metadata": {
    "ExecuteTime": {
     "end_time": "2024-10-23T06:47:21.846765Z",
     "start_time": "2024-10-23T06:47:19.894141Z"
    }
   },
   "outputs": [
    {
     "name": "stdout",
     "output_type": "stream",
     "text": [
      "\r\n",
      "\u001B[1m\u001B[38;5;232m\u001B[48;5;43m N E X T F L O W \u001B[0;2m  ~  \u001B[mversion 24.04.4\u001B[m\r\n",
      "\u001B[K\r\n",
      "Launching\u001B[35m `advanced_channel_operations.nf` \u001B[0;2m[\u001B[0;1;36mecstatic_wright\u001B[0;2m] DSL2 - \u001B[36mrevision: \u001B[0;36mf494fd7b40\u001B[m\r\n",
      "\u001B[K\r\n",
      "Auto: [[sample:CONTROL_REP1, fastq_1:fq_1_R1.fastq.gz, fastq_2:fq_1_R2.fastq.gz, strandedness:auto], [fq_1_R1.fastq.gz, fq_1_R2.fastq.gz]]\r\n",
      "Forward: [[sample:CONTROL_REP2, fastq_1:fq_2_R1.fastq.gz, fastq_2:fq_2_R2.fastq.gz, strandedness:forward], [fq_2_R1.fastq.gz, fq_2_R2.fastq.gz]]\r\n",
      "Reverse: [[sample:CONTROL_REP3, fastq_1:fq_3_R1.fastq.gz, fastq_2:fq_3_R2.fastq.gz, strandedness:reverse], [fq_3_R1.fastq.gz, fq_3_R2.fastq.gz]]\r\n",
      "Auto: [[sample:CONTROL_REP1, fastq_1:fq_4_R1.fastq.gz, fastq_2:fq_4_R2.fastq.gz, strandedness:auto], [fq_4_R1.fastq.gz, fq_4_R2.fastq.gz]]\r\n"
     ]
    }
   ],
   "source": [
    "# Task 3 - Now we assume that we want to handle different \"strandedness\" values differently. \n",
    "#          Split the channel into the right amount of channels and write them all to stdout so that we can understand which is which.\n",
    "\n",
    "!nextflow run advanced_channel_operations.nf --step 3 -dump-channels"
   ]
  },
  {
   "cell_type": "code",
   "execution_count": 36,
   "metadata": {
    "ExecuteTime": {
     "end_time": "2024-10-23T06:47:23.800512Z",
     "start_time": "2024-10-23T06:47:21.847887Z"
    }
   },
   "outputs": [
    {
     "name": "stdout",
     "output_type": "stream",
     "text": [
      "\r\n",
      "\u001B[1m\u001B[38;5;232m\u001B[48;5;43m N E X T F L O W \u001B[0;2m  ~  \u001B[mversion 24.04.4\u001B[m\r\n",
      "\u001B[K\r\n",
      "Launching\u001B[35m `advanced_channel_operations.nf` \u001B[0;2m[\u001B[0;1;36mshrivelled_poisson\u001B[0;2m] DSL2 - \u001B[36mrevision: \u001B[0;36mf494fd7b40\u001B[m\r\n",
      "\u001B[K\r\n",
      "[[CONTROL_REP1, auto], [[fq_1_R1.fastq.gz, fq_1_R2.fastq.gz], [fq_4_R1.fastq.gz, fq_4_R2.fastq.gz]]]\r\n",
      "[[CONTROL_REP2, forward], [[fq_2_R1.fastq.gz, fq_2_R2.fastq.gz]]]\r\n",
      "[[CONTROL_REP3, reverse], [[fq_3_R1.fastq.gz, fq_3_R2.fastq.gz]]]\r\n"
     ]
    }
   ],
   "source": [
    "# Task 4 - Group together all files with the same sample-id and strandedness value.\n",
    "\n",
    "!nextflow run advanced_channel_operations.nf --step 4"
   ]
  },
  {
   "cell_type": "markdown",
   "metadata": {},
   "source": [
    "## It's finally time to link processes and channels with each other"
   ]
  },
  {
   "cell_type": "markdown",
   "metadata": {},
   "source": [
    "Please go to the file $\\texttt{link\\_p\\_c.nf}$"
   ]
  },
  {
   "cell_type": "code",
   "execution_count": 37,
   "metadata": {
    "ExecuteTime": {
     "end_time": "2024-10-23T06:47:26.162390Z",
     "start_time": "2024-10-23T06:47:23.802226Z"
    }
   },
   "outputs": [
    {
     "name": "stdout",
     "output_type": "stream",
     "text": [
      "\r\n",
      "\u001B[1m\u001B[38;5;232m\u001B[48;5;43m N E X T F L O W \u001B[0;2m  ~  \u001B[mversion 24.04.4\u001B[m\r\n",
      "\u001B[K\r\n",
      "Launching\u001B[35m `link_p_c.nf` \u001B[0;2m[\u001B[0;1;36mdeadly_shockley\u001B[0;2m] DSL2 - \u001B[36mrevision: \u001B[0;36m7796cb4a09\u001B[m\r\n",
      "\u001B[K\r\n",
      "\u001B[2m[\u001B[0;34m-        \u001B[0;2m] \u001B[0;2m\u001B[mSPLITLETTERS   -\u001B[K\r\n",
      "\u001B[2m[\u001B[0;34m-        \u001B[0;2m] \u001B[0;2m\u001B[mCONVERTTOUPPER -\u001B[K\r\n",
      "\u001B[3A\r\n",
      "\u001B[2mexecutor >  local (9)\u001B[m\u001B[K\r\n",
      "\u001B[2m[\u001B[0;34mb8/9529a6\u001B[0;2m] \u001B[0;2m\u001B[mSPLITLETTERS\u001B[33;2m (\u001B[0;33m1\u001B[2m)\u001B[m  \u001B[2m |\u001B[m 2 of 2\u001B[32m ✔\u001B[m\u001B[K\r\n",
      "\u001B[2m[\u001B[0;34m8b/e4b672\u001B[0;2m] \u001B[0;2m\u001B[mCONVERTTOUPPER\u001B[33;2m (\u001B[0;33m5\u001B[2m)\u001B[m\u001B[2m |\u001B[m 1 of 11\u001B[K\r\n",
      "FLO\u001B[K\r\n",
      "ATI\u001B[K\r\n",
      "\u001B[6A\r\n",
      "\u001B[2mexecutor >  local (13)\u001B[m\u001B[K\r\n",
      "\u001B[2m[\u001B[0;34mb8/9529a6\u001B[0;2m] \u001B[0;2m\u001B[mSPLITLETTERS\u001B[33;2m (\u001B[0;33m1\u001B[2m)\u001B[m   \u001B[2m |\u001B[m 2 of 2\u001B[32m ✔\u001B[m\u001B[K\r\n",
      "\u001B[2m[\u001B[0;34m1b/7f9e33\u001B[0;2m] \u001B[0;2m\u001B[mCONVERTTOUPPER\u001B[33;2m (\u001B[0;33m10\u001B[2m)\u001B[m\u001B[2m |\u001B[m 11 of 11\u001B[32m ✔\u001B[m\u001B[K\r\n",
      "FLO\u001B[K\r\n",
      "ATI\u001B[K\r\n",
      "WS\u001B[K\r\n",
      "ONA\u001B[K\r\n",
      "COM\u001B[K\r\n",
      "PUT\u001B[K\r\n",
      "L W\u001B[K\r\n",
      "ORK\u001B[K\r\n",
      "RLD\u001B[K\r\n",
      "HELL\u001B[K\r\n",
      "O WO\u001B[K\r\n",
      "\r\n"
     ]
    }
   ],
   "source": [
    "!nextflow run link_p_c.nf"
   ]
  },
  {
   "cell_type": "markdown",
   "metadata": {},
   "source": [
    "### Give a list with the paths to the chunk files"
   ]
  },
  {
   "cell_type": "code",
   "outputs": [
    {
     "name": "stdout",
     "output_type": "stream",
     "text": [
      "\r\n",
      "\u001B[1m\u001B[38;5;232m\u001B[48;5;43m N E X T F L O W \u001B[0;2m  ~  \u001B[mversion 24.04.4\u001B[m\r\n",
      "\u001B[K\r\n",
      "Launching\u001B[35m `link_p_c.nf` \u001B[0;2m[\u001B[0;1;36msharp_wing\u001B[0;2m] DSL2 - \u001B[36mrevision: \u001B[0;36m7796cb4a09\u001B[m\r\n",
      "\u001B[K\r\n",
      "\u001B[2m[\u001B[0;34m-        \u001B[0;2m] \u001B[0;2m\u001B[mSPLITLETTERS   -\u001B[K\r\n",
      "\u001B[2m[\u001B[0;34m-        \u001B[0;2m] \u001B[0;2m\u001B[mCONVERTTOUPPER -\u001B[K\r\n",
      "\u001B[3A\r\n",
      "\u001B[2m[\u001B[0;34m1a/19d280\u001B[0;2m] \u001B[0;2m\u001B[mSPLITLETTERS\u001B[33;2m (\u001B[0;33m2\u001B[2m)\u001B[m   \u001B[2m |\u001B[m 2 of 2\u001B[2m, cached: 2\u001B[0;32m ✔\u001B[m\u001B[K\r\n",
      "\u001B[2m[\u001B[0;34maf/8e972a\u001B[0;2m] \u001B[0;2m\u001B[mCONVERTTOUPPER\u001B[33;2m (\u001B[0;33m11\u001B[2m)\u001B[m\u001B[2m |\u001B[m 11 of 11\u001B[2m, cached: 11\u001B[0;32m ✔\u001B[m\u001B[K\r\n",
      "[DUMP: chunks] [/Users/Jessie/PycharmProjects/comp_workflows/day6/work/b8/9529a66d20b17ccff3e26946029b0a/h_w_chunk_aa, /Users/Jessie/PycharmProjects/comp_workflows/day6/work/b8/9529a66d20b17ccff3e26946029b0a/h_w_chunk_ab, /Users/Jessie/PycharmProjects/comp_workflows/day6/work/b8/9529a66d20b17ccff3e26946029b0a/h_w_chunk_ac, /Users/Jessie/PycharmProjects/comp_workflows/day6/work/1a/19d280f967824d16fdae63742bae1b/c_w_chunk_aa, /Users/Jessie/PycharmProjects/comp_workflows/day6/work/1a/19d280f967824d16fdae63742bae1b/c_w_chunk_ab, /Users/Jessie/PycharmProjects/comp_workflows/day6/work/1a/19d280f967824d16fdae63742bae1b/c_w_chunk_ac, /Users/Jessie/PycharmProjects/comp_workflows/day6/work/1a/19d280f967824d16fdae63742bae1b/c_w_chunk_ad, /Users/Jessie/PycharmProjects/comp_workflows/day6/work/1a/19d280f967824d16fdae63742bae1b/c_w_chunk_ae, /Users/Jessie/PycharmProjects/comp_workflows/day6/work/1a/19d280f967824d16fdae63742bae1b/c_w_chunk_af, /Users/Jessie/PycharmProjects/comp_workflows/day6/work/1a/19d280f967824d16fdae63742bae1b/c_w_chunk_ag, /Users/Jessie/PycharmProjects/comp_workflows/day6/work/1a/19d280f967824d16fdae63742bae1b/c_w_chunk_ah]\u001B[K\r\n",
      "ONA\u001B[K\r\n",
      "HELL\u001B[K\r\n",
      "PUT\u001B[K\r\n",
      "RLD\u001B[K\r\n",
      "O WO\u001B[K\r\n",
      "COM\u001B[K\r\n",
      "L W\u001B[K\r\n",
      "ATI\u001B[K\r\n",
      "ORK\u001B[K\r\n",
      "FLO\u001B[K\r\n",
      "WS\u001B[K\r\n",
      "\u001B[15A\r\n",
      "\u001B[2m[\u001B[0;34m1a/19d280\u001B[0;2m] \u001B[0;2m\u001B[mSPLITLETTERS\u001B[33;2m (\u001B[0;33m2\u001B[2m)\u001B[m   \u001B[2m |\u001B[m 2 of 2\u001B[2m, cached: 2\u001B[0;32m ✔\u001B[m\u001B[K\r\n",
      "\u001B[2m[\u001B[0;34maf/8e972a\u001B[0;2m] \u001B[0;2m\u001B[mCONVERTTOUPPER\u001B[33;2m (\u001B[0;33m11\u001B[2m)\u001B[m\u001B[2m |\u001B[m 11 of 11\u001B[2m, cached: 11\u001B[0;32m ✔\u001B[m\u001B[K\r\n",
      "[DUMP: chunks] [/Users/Jessie/PycharmProjects/comp_workflows/day6/work/b8/9529a66d20b17ccff3e26946029b0a/h_w_chunk_aa, /Users/Jessie/PycharmProjects/comp_workflows/day6/work/b8/9529a66d20b17ccff3e26946029b0a/h_w_chunk_ab, /Users/Jessie/PycharmProjects/comp_workflows/day6/work/b8/9529a66d20b17ccff3e26946029b0a/h_w_chunk_ac, /Users/Jessie/PycharmProjects/comp_workflows/day6/work/1a/19d280f967824d16fdae63742bae1b/c_w_chunk_aa, /Users/Jessie/PycharmProjects/comp_workflows/day6/work/1a/19d280f967824d16fdae63742bae1b/c_w_chunk_ab, /Users/Jessie/PycharmProjects/comp_workflows/day6/work/1a/19d280f967824d16fdae63742bae1b/c_w_chunk_ac, /Users/Jessie/PycharmProjects/comp_workflows/day6/work/1a/19d280f967824d16fdae63742bae1b/c_w_chunk_ad, /Users/Jessie/PycharmProjects/comp_workflows/day6/work/1a/19d280f967824d16fdae63742bae1b/c_w_chunk_ae, /Users/Jessie/PycharmProjects/comp_workflows/day6/work/1a/19d280f967824d16fdae63742bae1b/c_w_chunk_af, /Users/Jessie/PycharmProjects/comp_workflows/day6/work/1a/19d280f967824d16fdae63742bae1b/c_w_chunk_ag, /Users/Jessie/PycharmProjects/comp_workflows/day6/work/1a/19d280f967824d16fdae63742bae1b/c_w_chunk_ah]\u001B[K\r\n",
      "ONA\u001B[K\r\n",
      "HELL\u001B[K\r\n",
      "PUT\u001B[K\r\n",
      "RLD\u001B[K\r\n",
      "O WO\u001B[K\r\n",
      "COM\u001B[K\r\n",
      "L W\u001B[K\r\n",
      "ATI\u001B[K\r\n",
      "ORK\u001B[K\r\n",
      "FLO\u001B[K\r\n",
      "WS\u001B[K\r\n",
      "\r\n"
     ]
    }
   ],
   "source": [
    "!nextflow run link_p_c.nf -dump-channels chunks -resume"
   ],
   "metadata": {
    "collapsed": false,
    "ExecuteTime": {
     "end_time": "2024-10-23T06:47:28.580935Z",
     "start_time": "2024-10-23T06:47:26.163556Z"
    }
   },
   "execution_count": 38
  },
  {
   "cell_type": "markdown",
   "metadata": {},
   "source": [
    "### Why was CONVERTTOUPPER run so often?"
   ]
  },
  {
   "cell_type": "markdown",
   "source": [
    "It is run separately for each of the 11 files that were created by the process SPLITLETTERS."
   ],
   "metadata": {
    "collapsed": false
   }
  }
 ],
 "metadata": {
  "kernelspec": {
   "display_name": "work",
   "language": "python",
   "name": "python3"
  },
  "language_info": {
   "codemirror_mode": {
    "name": "ipython",
    "version": 3
   },
   "file_extension": ".py",
   "mimetype": "text/x-python",
   "name": "python",
   "nbconvert_exporter": "python",
   "pygments_lexer": "ipython3",
   "version": "3.10.13"
  }
 },
 "nbformat": 4,
 "nbformat_minor": 2
}
